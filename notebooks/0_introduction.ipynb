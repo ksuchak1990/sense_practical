{
 "cells": [
  {
   "cell_type": "markdown",
   "id": "protective-residence",
   "metadata": {},
   "source": [
    "# Introduction to ABM Practical"
   ]
  },
  {
   "cell_type": "markdown",
   "id": "israeli-phase",
   "metadata": {},
   "source": [
    "The aim of this practical is to introduce you to agent-based modelling, and their use in urban analytics.\n",
    "This practical will focus specifically on their use in modelling how pedestrians move in urban spaces, focussing on the simulation of pedestrians moving around a concourse area at Grand Central Station in New York.\n",
    "The raw data on which this model is based, along with a video from which it is derived, can be found [here](http://www.ee.cuhk.edu.hk/~xgwang/grandcentral.html); the video shows pedestrians traversing the concourse area over a 30 minute period, and the derived data details the paths of these pedestrians."
   ]
  },
  {
   "cell_type": "markdown",
   "id": "acceptable-direction",
   "metadata": {},
   "source": [
    "This notebook seeks to offer some background on agent-based modelling, and outlines how each of the subsequent notebooks contribute to the practical."
   ]
  },
  {
   "cell_type": "markdown",
   "id": "celtic-extension",
   "metadata": {},
   "source": [
    "## Background on Agent-Based Modelling"
   ]
  },
  {
   "cell_type": "markdown",
   "id": "collaborative-camel",
   "metadata": {},
   "source": [
    "Agent-based models (sometimes referred to as individual-based models), have become widely used in a range of fields including social systems (e.g. the modelling of pedestrian movements (Liu et al. 2014)), systems pharmacology (e.g. the evolution of cellular systems  and the impact of different intervention measures (Cosgrove et al. 2015)), and ecological systems (e.g. the simulation of habitat-selection in fish populations (Railsback & Harvey2002)).\n",
    "Whilst there have existed a number of other modelling techniques prior to the introduction of agent-based models, many of them took the form of differential equation-based models (Parunak et al. 1998). Such equation-based models seek to describe the behaviour of systems at an aggregate level, often assuming some level of homogeneity in the population.\n",
    "Agent-based models, on the other hand, seek to describe the behaviour of the individuals in the system, allowing the emergence of aggregate behaviour from their interactions."
   ]
  },
  {
   "cell_type": "markdown",
   "id": "ignored-wyoming",
   "metadata": {},
   "source": [
    "In agent-based models, individuals are characterised as discrete autonomous agents in the model which can interact with each other, as well as with their surrounding environment (Bonabeau 2002).\n",
    "Such a characterisation involves the model containing information for each agent regarding their attributes and the rules by which they evolve.\n",
    "The rules pertaining to agent interaction aim to mirror the way in which we observe interactions occurring in reality; real interactions often occur with some level of variability and so the evaluation of the respective agent rules often involve some level of randomness.\n",
    "A model is therefore run by iterating forward through time, evaluating agent interaction rules at each time-step."
   ]
  },
  {
   "cell_type": "markdown",
   "id": "antique-rachel",
   "metadata": {},
   "source": [
    "The  advantage of such an approach (and  indeed  other  simulation  approaches) when considering the research field of pedestrian movement is that it allows for the testing of scenarios that might not be possible in the physical setting of reality, may be invasive or may be expensive.\n",
    "Beyond this, the benefit of using agent-based modelling techniques over equation-based methods is that they provide information to researchers regarding behaviour at an individual level, as well as the derived aggregate system behaviour."
   ]
  },
  {
   "cell_type": "markdown",
   "id": "available-analyst",
   "metadata": {},
   "source": [
    "The  agent-based  modelling approach is not, however, without its disadvantages.\n",
    "One of the most obvious of these is the computational cost of running such a model; as the scale of model increases (both in terms of the scale of the environment and the number of agents), so do the required computational resources (Bonabeau 2002).\n",
    "Furthermore, the stochastic nature of these models typically means that they must be run repeatedly with a given set of model parameters in order to deduce consistent system behaviour, further increasing computational cost.\n",
    "Such issues may be tackled through the use of supercomputing clusters and parallelisation techniques."
   ]
  },
  {
   "cell_type": "markdown",
   "id": "quantitative-bridge",
   "metadata": {},
   "source": [
    "A further disadvantage is that such a modelling technique requires a fine-grained description of individual behaviour.\n",
    "This is particularly challenging when considering human social systems which can incorporate a range of complex competing motivations.\n",
    "Failure to correctly capture the underlying agent behaviours can result in spurious behaviours that do not match those observed in the real system (Couclelis 2002)."
   ]
  },
  {
   "cell_type": "markdown",
   "id": "convertible-press",
   "metadata": {},
   "source": [
    "### Calibrating an Agent-Based Model"
   ]
  },
  {
   "cell_type": "markdown",
   "id": "tough-procedure",
   "metadata": {},
   "source": [
    "The process of calibrating an agent-based model involves identifying the values that should be assigned to model parameters in order to achieve the expected system behaviour.\n",
    "Such parameters govern the ways in which agents interact with each other and with their surrounding environment - it is therefore crucial that correct values be identified.\n",
    "In some cases, it is not possible to calculate unique values for parameters, and we instead are left with parameter sets, i.e. multiple combinations of parameters thatcan be used to reproduce the desired behaviour; this can result from over-paramerisation or correlation and interaction between parameters (Gan et al 2014).\n",
    "The  process  of  model  calibration  may  also  be  further  impeded  byeither a lack of data or data with high uncertainty (Thiele et al. 2014)."
   ]
  },
  {
   "cell_type": "markdown",
   "id": "direct-scroll",
   "metadata": {},
   "source": [
    "Associated  with  the  process  of  model  calibration  is  the  procedure  ofsensitivity analysis.  This process involves gaining an understanding of how sensitive a model is to perturbations in parameter values (Kleijnen 1995)."
   ]
  },
  {
   "cell_type": "markdown",
   "id": "indirect-literature",
   "metadata": {},
   "source": [
    "## Practical Overview"
   ]
  },
  {
   "cell_type": "markdown",
   "id": "sticky-pearl",
   "metadata": {},
   "source": [
    "This practial focuses on using an agent-based model called `stationsim` which models the individual motion of pedestrians within a train station.\n",
    "The original `stationsim` was developed to model a hypothetical station which had a very simple layout and configuration with the aim of using it to test real-time machine learning techniques.\n",
    "The model was subsequently developed into `stationsim_gcs` - a version of the model which simulates the motion of pedestrians within a concourse section of Grand Central Station in New York.\n",
    "It is this version which we will be using for this practical."
   ]
  },
  {
   "cell_type": "markdown",
   "id": "concerned-mailing",
   "metadata": {},
   "source": [
    "Beyond the originally intended use (i.e. a testing scenario for real-time machine learning methods), such a model may also be used for other reasons such as the exploration of pedestrian behaviours and for in-silico testing of structural changes to the built environment.\n",
    "Before we undertake such explorations, however, we much ensure that the model that we are using is reflective of the system tha we seek to simulate, i.e. we need to calibrate it.\n",
    "This practical will, therefore, introduce you to the use of an agent-based model by guiding you through a basic model calibration process."
   ]
  },
  {
   "cell_type": "markdown",
   "id": "horizontal-hepatitis",
   "metadata": {},
   "source": [
    "Whilst the model has a number of different parameters for which we can set values, we shall focus on calibrating parameters pertaining to agent speed (i.e. the speed at which pedestrians move within the station concourse) and agent birth rate (i.e. the rate at which agents enter the station concourse)."
   ]
  },
  {
   "cell_type": "markdown",
   "id": "fundamental-choir",
   "metadata": {},
   "source": [
    "This practical will be split into 4 notebooks:\n",
    "\n",
    "0. Introduction to Agent-Based Modelling Practical ([*this notebook*](./0_introduction.ipynb))\n",
    "1. [Running the Agent-Based Model](./1_running_models.ipynb)\n",
    "2. [Agent Speed Calibration](./2_speed_calibration.ipynb)\n",
    "3. [Agent Birth Rate Calibration](./3_birth_rate_calibration.ipynb)"
   ]
  },
  {
   "cell_type": "markdown",
   "id": "engaged-mission",
   "metadata": {},
   "source": [
    "## References"
   ]
  },
  {
   "cell_type": "markdown",
   "id": "separated-relations",
   "metadata": {},
   "source": [
    "* Liu, S., Lo, S., Ma, J., & Wang, W. (2014). An agent-based microscopic pedestrian flow simulation model for pedestrian traffic problems. IEEE Transactions on Intelligent Transportation Systems, 15(3), 992-1001.\n",
    "\n",
    "* Cosgrove, J., Butler, J., Alden, K., Read, M., Kumar, V., Cucurull‐Sanchez, L., ... & Coles, M. (2015). Agent‐based modeling in systems pharmacology. CPT: pharmacometrics & systems pharmacology, 4(11), 615-629.\n",
    "\n",
    "* Railsback, S. F., & Harvey, B. C. (2002). Analysis of habitat‐selection rules using anindividual‐based model. Ecology, 83(7), 1817-1830.\n",
    "\n",
    "* Parunak, H. V. D., Savit, R., & Riolo, R. L. (1998, July). Agent-based modeling vs. equation-based modeling: A case study and users’ guide. In International Workshop on Multi-Agent Systems and Agent-Based Simulation (pp. 10-25). Springer, Berlin, Heidelberg.\n",
    "\n",
    "* Bonabeau, E. (2002). Agent-based modeling: Methods and techniques for simulating human systems. Proceedings of the national academy of sciences, 99(suppl 3), 7280-7287.\n",
    "\n",
    "* Couclelis, H. (2002). Modeling frameworks, paradigms, and approaches. Geographic information systems and environmental modeling. Upper Saddle River, NJ: Prentice Hall, 36-50.\n",
    "\n",
    "* Gan, Y., Duan, Q., Gong, W., Tong, C., Sun, Y., Chu, W., ... & Di, Z. (2014). A comprehensive evaluation of various sensitivity analysis methods: A case study with a hydrological model. Environmental modelling & software, 51, 269-285.\n",
    "\n",
    "* Thiele, J. C., Kurth, W., & Grimm, V. (2014). Facilitating parameter estimation and sensitivity analysis of agent-based models: A cookbook using NetLogo and R. Journal of Artificial Societies and Social Simulation, 17(3), 11.\n",
    "\n",
    "* Kleijnen, J. P. (1995). Sensitivity analysis and related analyses: a survey of statistical techniques. Faculty of Economics and Business Administration, Tilburg University."
   ]
  }
 ],
 "metadata": {
  "kernelspec": {
   "display_name": "Python 3",
   "language": "python",
   "name": "python3"
  },
  "language_info": {
   "codemirror_mode": {
    "name": "ipython",
    "version": 3
   },
   "file_extension": ".py",
   "mimetype": "text/x-python",
   "name": "python",
   "nbconvert_exporter": "python",
   "pygments_lexer": "ipython3",
   "version": "3.8.5"
  }
 },
 "nbformat": 4,
 "nbformat_minor": 5
}
