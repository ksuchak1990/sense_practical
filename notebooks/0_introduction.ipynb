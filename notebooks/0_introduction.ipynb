{
 "cells": [
  {
   "cell_type": "markdown",
   "id": "korean-irrigation",
   "metadata": {},
   "source": [
    "# Introduction to ABM Practical"
   ]
  },
  {
   "cell_type": "markdown",
   "id": "southeast-morgan",
   "metadata": {},
   "source": [
    "## Practical Overview"
   ]
  },
  {
   "cell_type": "markdown",
   "id": "external-vector",
   "metadata": {},
   "source": [
    "This practical will be split into 4 notebooks:\n",
    "\n",
    "0. Introduction to Agent-Based Modelling Practical (*this notebook*)\n",
    "1. Running the Agent-Based Model\n",
    "2. Agent Speed Calibration\n",
    "3. Agent Birth Rate Calibration"
   ]
  }
 ],
 "metadata": {
  "kernelspec": {
   "display_name": "Python 3",
   "language": "python",
   "name": "python3"
  },
  "language_info": {
   "codemirror_mode": {
    "name": "ipython",
    "version": 3
   },
   "file_extension": ".py",
   "mimetype": "text/x-python",
   "name": "python",
   "nbconvert_exporter": "python",
   "pygments_lexer": "ipython3",
   "version": "3.8.5"
  }
 },
 "nbformat": 4,
 "nbformat_minor": 5
}
