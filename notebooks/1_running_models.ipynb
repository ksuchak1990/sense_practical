{
 "cells": [
  {
   "cell_type": "markdown",
   "id": "stretch-gravity",
   "metadata": {},
   "source": [
    "# Running the Agent-Based Model"
   ]
  },
  {
   "cell_type": "markdown",
   "id": "systematic-annual",
   "metadata": {},
   "source": [
    "This notebook will provide a basic outline of how an instance of the agent-based model described in the previous notebook can be run."
   ]
  },
  {
   "cell_type": "markdown",
   "id": "distributed-responsibility",
   "metadata": {},
   "source": [
    "## Imports"
   ]
  },
  {
   "cell_type": "markdown",
   "id": "difficult-gallery",
   "metadata": {},
   "source": [
    "In order to run the model, we need to import the `Model` class found in `~/src/model/stationsim_gcs.py`.\n",
    "We can do this using `sys.path.append()` to add `~/src/model/` to the system path and importing `Model` from `stationsim_gcs`."
   ]
  },
  {
   "cell_type": "code",
   "execution_count": null,
   "id": "impressed-defendant",
   "metadata": {},
   "outputs": [],
   "source": [
    "from IPython.display import HTML\n",
    "from sys import path\n",
    "from tqdm import tqdm"
   ]
  },
  {
   "cell_type": "code",
   "execution_count": null,
   "id": "atomic-gospel",
   "metadata": {},
   "outputs": [],
   "source": [
    "path.append('../src/model/')"
   ]
  },
  {
   "cell_type": "code",
   "execution_count": null,
   "id": "relative-refrigerator",
   "metadata": {},
   "outputs": [],
   "source": [
    "from stationsim_gcs import Model"
   ]
  },
  {
   "cell_type": "markdown",
   "id": "polished-vietnamese",
   "metadata": {},
   "source": [
    "## Paths and Directories"
   ]
  },
  {
   "cell_type": "markdown",
   "id": "crude-seminar",
   "metadata": {},
   "source": [
    "*Nothing to add for this notebook*"
   ]
  },
  {
   "cell_type": "markdown",
   "id": "computational-cache",
   "metadata": {},
   "source": [
    "## Functions"
   ]
  },
  {
   "cell_type": "markdown",
   "id": "brilliant-vatican",
   "metadata": {},
   "source": [
    "*Nothing to add for this notebook*"
   ]
  },
  {
   "cell_type": "markdown",
   "id": "adaptive-dynamics",
   "metadata": {},
   "source": [
    "## Running StationSim"
   ]
  },
  {
   "cell_type": "markdown",
   "id": "strong-cliff",
   "metadata": {},
   "source": [
    "This section of the notebook will outline the simple procedure that we use to run our model.\n",
    "When running the model, we typically want to set values for some of the model parameters of interest.\n",
    "These paramters include:"
   ]
  },
  {
   "cell_type": "markdown",
   "id": "personal-framing",
   "metadata": {},
   "source": [
    "Parameters of interest:\n",
    "* `station`: what type of station are we looking to simulate?\n",
    "* `pop_total`: how many pedestrians would we like in our model?\n",
    "* `do_print`: would we like the model to print any outputs as it runs?\n",
    "* `speed_mean`: what should be the mean value of the speeds of the pedestrians?\n",
    "* `speed_std`: what should be the standard deviation of the speeds of the pedetrians?\n",
    "* `speed_min`: what should be the minimum speed of pedestrians?\n",
    "* `step_limit`: how many timesteps would we like to limit our model to?"
   ]
  },
  {
   "cell_type": "markdown",
   "id": "derived-privilege",
   "metadata": {},
   "source": [
    "Each of these parameters has a default value built into the model, but we can also provide specific values when setting up an instance of the model."
   ]
  },
  {
   "cell_type": "markdown",
   "id": "silent-bargain",
   "metadata": {},
   "source": [
    "The following few cells show how we would go about providing specific parameter values to our model.\n",
    "We can first define a dictionary with the following parameter values:\n",
    "* `pop_total`: $50$, i.e. we want $50$ pedestrians in our model.\n",
    "* `station`: `Grand_Central`, i.e. we want to simulate Grand Central Station.\n",
    "* `do_print`: `False`, i.e. we do not want our model to print outputs as it runs."
   ]
  },
  {
   "cell_type": "code",
   "execution_count": null,
   "id": "announced-contrast",
   "metadata": {},
   "outputs": [],
   "source": [
    "# Define dictionary of parameter values\n",
    "model_params = {'pop_total': 50,\n",
    "                'station': 'Grand_Central',\n",
    "                'do_print': False}"
   ]
  },
  {
   "cell_type": "markdown",
   "id": "funny-effects",
   "metadata": {},
   "source": [
    "We can then create an instance of the model based on the dictionary of parameter values that we have just created."
   ]
  },
  {
   "cell_type": "code",
   "execution_count": null,
   "id": "spanish-document",
   "metadata": {},
   "outputs": [],
   "source": [
    "# Create an instance of the model\n",
    "model = Model(**model_params)"
   ]
  },
  {
   "cell_type": "markdown",
   "id": "injured-feeding",
   "metadata": {},
   "source": [
    "And finally we can run the model by using a `for`-loop to iterate it forward step by step."
   ]
  },
  {
   "cell_type": "code",
   "execution_count": null,
   "id": "biblical-sacramento",
   "metadata": {},
   "outputs": [],
   "source": [
    "# Iterate model forward\n",
    "for _ in range(model.step_limit):\n",
    "    model.step()"
   ]
  },
  {
   "cell_type": "markdown",
   "id": "limited-samba",
   "metadata": {},
   "source": [
    "Given that we have asked the model not to print outputs, it may not be clear how quickly the model is progressing.\n",
    "To remedy this, we can use `tqdm` which produces a progress bar for us to show us what percentage of the iterations the loop has completed"
   ]
  },
  {
   "cell_type": "code",
   "execution_count": null,
   "id": "bulgarian-technique",
   "metadata": {},
   "outputs": [],
   "source": [
    "# Create an instance of the model\n",
    "model = Model(**model_params)\n",
    "\n",
    "# Iterate model forward\n",
    "for _ in tqdm(range(model.step_limit)):\n",
    "    model.step()"
   ]
  },
  {
   "cell_type": "markdown",
   "id": "informational-party",
   "metadata": {},
   "source": [
    "Now that we have an idea of how to set up a model and run it, let's give it a try for ourselves.\n",
    "If we wanted to run a model with the following parameters values, how would we do it?\n",
    "* `speed_mean`: $2$\n",
    "* `speed_std`: $2$\n",
    "* `pop_total`: $30$\n",
    "* `do_print`: `False`\n",
    "* `station`: `Grand_Central`"
   ]
  },
  {
   "cell_type": "code",
   "execution_count": null,
   "id": "imported-illustration",
   "metadata": {},
   "outputs": [],
   "source": [
    "# Define dictionary of parameter values\n",
    "# INSERT CODE HERE\n",
    "\n",
    "# Create instance of the model\n",
    "# INSERT CODE HERE\n",
    "\n",
    "# Iterate the model forward\n",
    "# INSERT CODE HERE\n"
   ]
  },
  {
   "cell_type": "markdown",
   "id": "handed-touch",
   "metadata": {},
   "source": [
    "## Visualising StationSim"
   ]
  },
  {
   "cell_type": "markdown",
   "id": "parallel-basics",
   "metadata": {},
   "source": [
    "Now that we have managed to successfully run our agent-based model, we may wish to visualise what is going on in the model.\n",
    "There are a couple of ways that we may wish to do this."
   ]
  },
  {
   "cell_type": "markdown",
   "id": "selective-replica",
   "metadata": {},
   "source": [
    "The first approach is to visualise the agent paths, i.e. plot lines representing the paths taken by each pedestrian agent in the model.\n",
    "Fortunately the model already has a method attached to it called `get_trails()` to do this:"
   ]
  },
  {
   "cell_type": "code",
   "execution_count": null,
   "id": "established-logan",
   "metadata": {},
   "outputs": [],
   "source": [
    "fig = model.get_trails(plot_axis=True, plot_legend=True)"
   ]
  },
  {
   "cell_type": "markdown",
   "id": "buried-holocaust",
   "metadata": {},
   "source": [
    "There are a couple of points to note - you may recall that in the previous notebook, we noted that this model is a stochastic one; that is to say that there are a number of random elements in it.\n",
    "Consequently, when running the model, each of us is likely to observe slightly different results (although qualitatively our observations should be largely similar)."
   ]
  },
  {
   "cell_type": "markdown",
   "id": "apparent-creativity",
   "metadata": {},
   "source": [
    "Looking at the paths taken by the pedestrians above, we can see that many of the lines are completely straight, i.e. pedestrians have walked in a straight line from their starting-point to their end-point.\n",
    "There are, however, some paths which deviate from a straight line - these are cases where pedestrian agents have had to alter their course to avoid obstacles (either the stationary clock in the centre of the model environment or other pedestrians). "
   ]
  },
  {
   "cell_type": "markdown",
   "id": "lucky-gospel",
   "metadata": {},
   "source": [
    "The second approach to visualising the paths of the pedestrian agents is to do so with an animation, i.e. plotting each pedestrian agent as a point which we can observe moving across the model environment over time.\n",
    "Once again, we already have a method attached to the model to do this called `get_ani()`.\n",
    "\n",
    "WARNING, ANIMATION MAY TAKE A MINUTE OR TWO TO PRODUCE."
   ]
  },
  {
   "cell_type": "code",
   "execution_count": null,
   "id": "elder-ivory",
   "metadata": {},
   "outputs": [],
   "source": [
    "ani = model.get_ani(show_separation=True)\n",
    "HTML(ani.to_html5_video())"
   ]
  },
  {
   "cell_type": "markdown",
   "id": "molecular-assets",
   "metadata": {},
   "source": [
    "Watching the animation, we see not only what paths each pedestrian agent takes, but also how the agents interact.\n",
    "We see that, when their paths cross, the agents wiggle about in an attempt to avoid each other, and employ a similar behaviour when interacting with the central clock."
   ]
  },
  {
   "cell_type": "markdown",
   "id": "urban-stamp",
   "metadata": {},
   "source": [
    "## Closing remarks"
   ]
  },
  {
   "cell_type": "markdown",
   "id": "colonial-tradition",
   "metadata": {},
   "source": [
    "We have briefly seen how to run and visualise the StationSim model of pedestrian motion at Grand Central Station.\n",
    "This makes use of Python code which can be found in `src/model/stationsim_gcs.py`; we have not really touched on the contents of this file as we do not need to know much about how the code works in order to run the model (you are welcome to take a look at the code if you wish though)."
   ]
  },
  {
   "cell_type": "markdown",
   "id": "trying-affiliate",
   "metadata": {},
   "source": [
    "Now that we are able to run the model, we are going to make use of some real-world data in order to calibrate some of the paramters values that we are passing into the model.\n",
    "In the [next notebook](./2_speed_calibration.ipynb), we will look to analyse real-world data to find reasonable values for the different speed parameters that are used by the model."
   ]
  }
 ],
 "metadata": {
  "kernelspec": {
   "display_name": "Python 3",
   "language": "python",
   "name": "python3"
  },
  "language_info": {
   "codemirror_mode": {
    "name": "ipython",
    "version": 3
   },
   "file_extension": ".py",
   "mimetype": "text/x-python",
   "name": "python",
   "nbconvert_exporter": "python",
   "pygments_lexer": "ipython3",
   "version": "3.8.5"
  }
 },
 "nbformat": 4,
 "nbformat_minor": 5
}
