{
 "cells": [
  {
   "cell_type": "markdown",
   "id": "weird-powder",
   "metadata": {},
   "source": [
    "# Agent Speed Calibration"
   ]
  },
  {
   "cell_type": "markdown",
   "id": "hawaiian-share",
   "metadata": {},
   "source": [
    "## Imports"
   ]
  },
  {
   "cell_type": "code",
   "execution_count": 15,
   "id": "framed-companion",
   "metadata": {},
   "outputs": [],
   "source": [
    "import pandas as pd\n",
    "import numpy as np\n",
    "import matplotlib.pyplot as plt\n",
    "import seaborn as sns\n",
    "from math import sqrt\n",
    "from scipy.stats import anderson, shapiro\n",
    "\n",
    "%matplotlib inline"
   ]
  },
  {
   "cell_type": "markdown",
   "id": "national-recommendation",
   "metadata": {},
   "source": [
    "## Paths and Directories"
   ]
  },
  {
   "cell_type": "code",
   "execution_count": 2,
   "id": "sticky-retrieval",
   "metadata": {},
   "outputs": [],
   "source": [
    "combined_frames_path = '../data/outputs/combined_frames.csv'"
   ]
  },
  {
   "cell_type": "markdown",
   "id": "acceptable-ordinance",
   "metadata": {},
   "source": [
    "## Functions"
   ]
  },
  {
   "cell_type": "code",
   "execution_count": 3,
   "id": "adjusted-rugby",
   "metadata": {},
   "outputs": [],
   "source": [
    "def get_distance(x0, y0, x1, y1):\n",
    "    x_diff = x1 - x0\n",
    "    y_diff = y1 - y0\n",
    "    return sqrt(x_diff*x_diff + y_diff*y_diff)"
   ]
  },
  {
   "cell_type": "code",
   "execution_count": 8,
   "id": "fifth-brake",
   "metadata": {},
   "outputs": [],
   "source": [
    "def get_speed_profile(x_coordinates, y_coordinates):\n",
    "    assert len(x_coordinates) == len(y_coordinates)\n",
    "    \n",
    "    FRAMES_PER_SECOND = 25\n",
    "    PIXELS_PER_METRE = 14\n",
    "    ratio = FRAMES_PER_SECOND / PIXELS_PER_METRE\n",
    "    \n",
    "    distances = list()\n",
    "    for i in range(len(x_coordinates) - 1):\n",
    "        x0, x1 = x_coordinates[i], x_coordinates[i + 1]\n",
    "        y0, y1 = y_coordinates[i], y_coordinates[i + 1]\n",
    "        distances.append(get_distance(x0, y0, x1, y1))\n",
    "    \n",
    "    speeds = [distance * ratio for distance in distances]\n",
    "    speeds = [speed for speed in speeds if (speed != 0 and speed < 10)]\n",
    "    \n",
    "    total_distance = get_distance(x_coordinates[0], y_coordinates[0],\n",
    "                                  x_coordinates[-1], y_coordinates[-1])\n",
    "    average_speed = ratio * total_distance / (len(x_coordinates) - 1)\n",
    "    \n",
    "    mean_speed = np.mean(speeds)\n",
    "    \n",
    "    return speeds, average_speed, mean_speed"
   ]
  },
  {
   "cell_type": "markdown",
   "id": "improving-retail",
   "metadata": {},
   "source": [
    "## Analysis"
   ]
  },
  {
   "cell_type": "code",
   "execution_count": 4,
   "id": "intimate-assist",
   "metadata": {},
   "outputs": [
    {
     "data": {
      "text/html": [
       "<div>\n",
       "<style scoped>\n",
       "    .dataframe tbody tr th:only-of-type {\n",
       "        vertical-align: middle;\n",
       "    }\n",
       "\n",
       "    .dataframe tbody tr th {\n",
       "        vertical-align: top;\n",
       "    }\n",
       "\n",
       "    .dataframe thead th {\n",
       "        text-align: right;\n",
       "    }\n",
       "</style>\n",
       "<table border=\"1\" class=\"dataframe\">\n",
       "  <thead>\n",
       "    <tr style=\"text-align: right;\">\n",
       "      <th></th>\n",
       "      <th>frame</th>\n",
       "      <th>pedestrianID</th>\n",
       "      <th>x</th>\n",
       "      <th>y</th>\n",
       "    </tr>\n",
       "  </thead>\n",
       "  <tbody>\n",
       "    <tr>\n",
       "      <th>0</th>\n",
       "      <td>4506</td>\n",
       "      <td>245</td>\n",
       "      <td>456.903221</td>\n",
       "      <td>507.182260</td>\n",
       "    </tr>\n",
       "    <tr>\n",
       "      <th>1</th>\n",
       "      <td>4506</td>\n",
       "      <td>246</td>\n",
       "      <td>447.735569</td>\n",
       "      <td>490.672126</td>\n",
       "    </tr>\n",
       "    <tr>\n",
       "      <th>2</th>\n",
       "      <td>4506</td>\n",
       "      <td>247</td>\n",
       "      <td>466.788192</td>\n",
       "      <td>520.933037</td>\n",
       "    </tr>\n",
       "    <tr>\n",
       "      <th>3</th>\n",
       "      <td>4506</td>\n",
       "      <td>248</td>\n",
       "      <td>475.195786</td>\n",
       "      <td>527.601525</td>\n",
       "    </tr>\n",
       "    <tr>\n",
       "      <th>4</th>\n",
       "      <td>4506</td>\n",
       "      <td>249</td>\n",
       "      <td>281.777398</td>\n",
       "      <td>518.092819</td>\n",
       "    </tr>\n",
       "  </tbody>\n",
       "</table>\n",
       "</div>"
      ],
      "text/plain": [
       "   frame  pedestrianID           x           y\n",
       "0   4506           245  456.903221  507.182260\n",
       "1   4506           246  447.735569  490.672126\n",
       "2   4506           247  466.788192  520.933037\n",
       "3   4506           248  475.195786  527.601525\n",
       "4   4506           249  281.777398  518.092819"
      ]
     },
     "execution_count": 4,
     "metadata": {},
     "output_type": "execute_result"
    }
   ],
   "source": [
    "frames_data = pd.read_csv(combined_frames_path)\n",
    "frames_data.head()"
   ]
  },
  {
   "cell_type": "code",
   "execution_count": 5,
   "id": "adapted-gross",
   "metadata": {},
   "outputs": [],
   "source": [
    "pedestrian_ids = frames_data['pedestrianID'].unique()\n",
    "pedestrian_ids = sorted(pedestrian_ids)"
   ]
  },
  {
   "cell_type": "code",
   "execution_count": 6,
   "id": "competent-token",
   "metadata": {},
   "outputs": [],
   "source": [
    "pedestrian_trajectories = dict()\n",
    "\n",
    "for pid in pedestrian_ids:\n",
    "    df = frames_data.loc[frames_data['pedestrianID']==pid, :]\n",
    "    df = df.sort_values(by='frame')\n",
    "    d = {'xs': list(df['x']),\n",
    "         'ys': list(df['y'])}\n",
    "    pedestrian_trajectories[pid] = d"
   ]
  },
  {
   "cell_type": "code",
   "execution_count": 7,
   "id": "behind-hearts",
   "metadata": {},
   "outputs": [
    {
     "name": "stdout",
     "output_type": "stream",
     "text": [
      "274\n"
     ]
    }
   ],
   "source": [
    "print(len(pedestrian_trajectories))"
   ]
  },
  {
   "cell_type": "code",
   "execution_count": 9,
   "id": "marked-hamilton",
   "metadata": {},
   "outputs": [],
   "source": [
    "for trajectory in pedestrian_trajectories.values():\n",
    "    speed, average_speed, mean_speed = get_speed_profile(trajectory['xs'], trajectory['ys'])\n",
    "    trajectory['speed'] = speed\n",
    "    trajectory['average_speed'] = average_speed\n",
    "    trajectory['mean_speed'] = mean_speed"
   ]
  },
  {
   "cell_type": "code",
   "execution_count": 12,
   "id": "separated-exclusion",
   "metadata": {},
   "outputs": [],
   "source": [
    "# Make list of average speeds excluding 0s\n",
    "average_speeds = [d['average_speed'] for d in pedestrian_trajectories.values()]\n",
    "average_speeds = [speed for speed in average_speeds if speed != 0]"
   ]
  },
  {
   "cell_type": "code",
   "execution_count": 17,
   "id": "compound-century",
   "metadata": {},
   "outputs": [
    {
     "data": {
      "image/png": "[encoded data removed]",
      "text/plain": [
       "<Figure size 432x288 with 1 Axes>"
      ]
     },
     "metadata": {
      "needs_background": "light"
     },
     "output_type": "display_data"
    }
   ],
   "source": [
    "plt.figure()\n",
    "sns.kdeplot(x=average_speeds)\n",
    "plt.show()"
   ]
  },
  {
   "cell_type": "code",
   "execution_count": 19,
   "id": "latin-stability",
   "metadata": {},
   "outputs": [],
   "source": [
    "speed_samples = np.random.normal(loc=np.mean(average_speeds),\n",
    "                                 scale=np.std(average_speeds),\n",
    "                                 size=len(average_speeds))"
   ]
  },
  {
   "cell_type": "code",
   "execution_count": 23,
   "id": "crude-indonesian",
   "metadata": {},
   "outputs": [
    {
     "data": {
      "image/png": "[encoded data removed]",
      "text/plain": [
       "<Figure size 432x288 with 1 Axes>"
      ]
     },
     "metadata": {
      "needs_background": "light"
     },
     "output_type": "display_data"
    }
   ],
   "source": [
    "plt.figure()\n",
    "plt.hist(speed_samples, density=True)\n",
    "sns.kdeplot(average_speeds)\n",
    "plt.show()"
   ]
  }
 ],
 "metadata": {
  "kernelspec": {
   "display_name": "Python 3",
   "language": "python",
   "name": "python3"
  },
  "language_info": {
   "codemirror_mode": {
    "name": "ipython",
    "version": 3
   },
   "file_extension": ".py",
   "mimetype": "text/x-python",
   "name": "python",
   "nbconvert_exporter": "python",
   "pygments_lexer": "ipython3",
   "version": "3.8.5"
  }
 },
 "nbformat": 4,
 "nbformat_minor": 5
}
