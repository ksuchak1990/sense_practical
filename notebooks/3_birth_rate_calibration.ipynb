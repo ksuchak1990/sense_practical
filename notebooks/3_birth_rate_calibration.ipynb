{
 "cells": [
  {
   "cell_type": "markdown",
   "id": "lasting-bhutan",
   "metadata": {},
   "source": [
    "# Agent Birth Rate Calibration"
   ]
  },
  {
   "cell_type": "markdown",
   "id": "burning-channels",
   "metadata": {},
   "source": [
    "## Imports"
   ]
  },
  {
   "cell_type": "markdown",
   "id": "partial-hearts",
   "metadata": {},
   "source": [
    "## Paths and Directories"
   ]
  },
  {
   "cell_type": "markdown",
   "id": "fourth-wheel",
   "metadata": {},
   "source": [
    "## Functions"
   ]
  }
 ],
 "metadata": {
  "kernelspec": {
   "display_name": "Python 3",
   "language": "python",
   "name": "python3"
  },
  "language_info": {
   "codemirror_mode": {
    "name": "ipython",
    "version": 3
   },
   "file_extension": ".py",
   "mimetype": "text/x-python",
   "name": "python",
   "nbconvert_exporter": "python",
   "pygments_lexer": "ipython3",
   "version": "3.8.5"
  }
 },
 "nbformat": 4,
 "nbformat_minor": 5
}
