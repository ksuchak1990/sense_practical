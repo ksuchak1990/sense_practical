{
 "cells": [
  {
   "cell_type": "markdown",
   "id": "through-consciousness",
   "metadata": {},
   "source": [
    "# Agent Birth Rate Calibration and Beyond"
   ]
  },
  {
   "cell_type": "markdown",
   "id": "illegal-spine",
   "metadata": {},
   "source": [
    "The aim of this notebook is to use the data provided to find a calibrated value for agent birth rate in the model.\n",
    "In this context, we take agent birth rate to mean the rate at which pedestrian agents are activated to enter the model environment, i.e. the station concourse.\n",
    "We can think of this as the number of pedestrians that may enter through the gates located at the edge of the model environment at each time-step/frame.\n",
    "\n",
    "With a lower birth rate, the number of pedestrians in the system is likely to remain consistently low, and as a consequence instances where pedestrians interact with each other will be infrequent.\n",
    "With a higher birth rate, the number of pedestrians in the system is likely to increase quickly, and we may therefore observe some crowding with agents being forced to interact with each other and find ways past each other.\n",
    "The level of crowding and interaction that we observe in a system will vary from scenario to scenario.\n",
    "In order for our model to accurately represent the behviour that we observe in the real-world system, we need to ensure that the parameter values that we use are accurate - this notebook therefore focuses on identifying a value for the `birth_rate` parameter, using the parameter values that we found in [the previous notebook](./2_speed_calibration.ipynb)."
   ]
  },
  {
   "cell_type": "markdown",
   "id": "surrounded-purpose",
   "metadata": {},
   "source": [
    "## Imports"
   ]
  },
  {
   "cell_type": "markdown",
   "id": "arabic-drama",
   "metadata": {},
   "source": [
    "As always, we will start by importing all of the necessary packages, including the `StationSim` model:"
   ]
  },
  {
   "cell_type": "code",
   "execution_count": null,
   "id": "intermediate-choir",
   "metadata": {},
   "outputs": [],
   "source": [
    "import json\n",
    "import pandas as pd\n",
    "import seaborn as sns\n",
    "import matplotlib.pyplot as plt\n",
    "import numpy as np\n",
    "from sys import path\n",
    "import time\n",
    "from tqdm import tqdm\n",
    "\n",
    "%matplotlib inline"
   ]
  },
  {
   "cell_type": "code",
   "execution_count": null,
   "id": "macro-catering",
   "metadata": {},
   "outputs": [],
   "source": [
    "path.append('../src/model/')\n",
    "from stationsim_gcs import Model"
   ]
  },
  {
   "cell_type": "markdown",
   "id": "developmental-congo",
   "metadata": {},
   "source": [
    "## Paths and Directories"
   ]
  },
  {
   "cell_type": "markdown",
   "id": "golden-juice",
   "metadata": {},
   "source": [
    "Define some paths to and from data:"
   ]
  },
  {
   "cell_type": "code",
   "execution_count": null,
   "id": "tight-crack",
   "metadata": {},
   "outputs": [],
   "source": [
    "combined_frames_path = '../data/outputs/combined_frames.csv'"
   ]
  },
  {
   "cell_type": "code",
   "execution_count": null,
   "id": "direct-vaccine",
   "metadata": {},
   "outputs": [],
   "source": [
    "output_data_dir = '../data/outputs/'"
   ]
  },
  {
   "cell_type": "markdown",
   "id": "missing-macintosh",
   "metadata": {},
   "source": [
    "## Functions"
   ]
  },
  {
   "cell_type": "markdown",
   "id": "metric-falls",
   "metadata": {},
   "source": [
    "Here, I have defined some functions that will be useful later in the analysis:"
   ]
  },
  {
   "cell_type": "code",
   "execution_count": null,
   "id": "distant-thought",
   "metadata": {},
   "outputs": [],
   "source": [
    "def get_number_pedestrians_in_frame(df, frame):\n",
    "    \"\"\"\n",
    "    Find the number of pedestrians in a frame.\n",
    "    \n",
    "    df: pandas dataframe\n",
    "    frame: int\n",
    "    \n",
    "    returns: int\n",
    "    \n",
    "    Given a dataset of all pedestrian locations in all frames,\n",
    "    restrict the dataset down to the frame in question,\n",
    "    and count the number of unique pedestrians IDs.\n",
    "    \"\"\"\n",
    "    tdf = df.loc[df['frame']==frame, :]\n",
    "    return len(tdf['pedestrianID'].unique())"
   ]
  },
  {
   "cell_type": "code",
   "execution_count": null,
   "id": "editorial-mount",
   "metadata": {},
   "outputs": [],
   "source": [
    "def __get_error(observed, model, variable):\n",
    "    \"\"\"\n",
    "    Calculate the error between an observed value and a value from the model.\n",
    "    \n",
    "    observed: dict-like\n",
    "    model: dict-like\n",
    "    variable: str\n",
    "    \n",
    "    returns: numerical\n",
    "    \n",
    "    Given a dictionary of metrics from the observed data,\n",
    "    a dictionary of metrics from the model data\n",
    "    and a string indicating the variable of interest,\n",
    "    calculate the error, i.e. the difference between the two.\n",
    "    \"\"\"\n",
    "    return observed[variable] - model[variable]"
   ]
  },
  {
   "cell_type": "code",
   "execution_count": null,
   "id": "convinced-insulin",
   "metadata": {},
   "outputs": [],
   "source": [
    "def get_error(observed_results, model_results):\n",
    "    \"\"\"\n",
    "    Calculate errors based on observed metrics and model metrics.\n",
    "    \n",
    "    observed_results: dict-like\n",
    "    model_results: dict-like\n",
    "    \n",
    "    returns: dict\n",
    "    \n",
    "    Given a dictionary of observed metrics from the data and a\n",
    "    dictionary of metrics from the model, calculate the error in:\n",
    "    - the maximum number of pedestrians in the system at any one time\n",
    "    - the time at which the maximum occurs\n",
    "    - the total time taken for all pedestrians to complete their journeys\n",
    "    \"\"\"\n",
    "    n_max_peds = __get_error(observed_results, model_results, 'n_max_active_pop')\n",
    "    t_max_peds = __get_error(observed_results, model_results, 't_max_active_pop')\n",
    "    t_max = __get_error(observed_results, model_results, 't_max')\n",
    "    \n",
    "    results = {'n_max_active_pop': n_max_peds,\n",
    "               't_max_active_pop': t_max_peds,\n",
    "               't_max': t_max,\n",
    "               'rate': model_results['rate']}\n",
    "    return results"
   ]
  },
  {
   "cell_type": "markdown",
   "id": "clinical-programming",
   "metadata": {},
   "source": [
    "## Analysis"
   ]
  },
  {
   "cell_type": "markdown",
   "id": "twelve-modem",
   "metadata": {},
   "source": [
    "We start our analysis by reading in the data pertaining to the paths of pedestrians across the concourse:"
   ]
  },
  {
   "cell_type": "code",
   "execution_count": null,
   "id": "ongoing-experience",
   "metadata": {},
   "outputs": [],
   "source": [
    "# Read in data\n",
    "data = pd.read_csv(combined_frames_path)\n",
    "data.head()"
   ]
  },
  {
   "cell_type": "markdown",
   "id": "supreme-sharing",
   "metadata": {},
   "source": [
    "As we saw in the previous notebook, this dataset is made up fo observations pertaining to 4 columns:\n",
    "* `frame`, i.e. the frame in which the observation was captured,\n",
    "* `pedestrianID` i.e. the unique pedestrian that the observation relates to,\n",
    "* `x`, i.e. the $x$-coordinate of the pedestrian within the concourse in the frame,\n",
    "* `y`, i.e. the $y$-coordinate of the pedestrian within the concourse in the frame."
   ]
  },
  {
   "cell_type": "markdown",
   "id": "conventional-syntax",
   "metadata": {},
   "source": [
    "### Exploring the variation in number of pedestrian in the real system over time"
   ]
  },
  {
   "cell_type": "markdown",
   "id": "respected-antarctica",
   "metadata": {},
   "source": [
    "Given the data that we have regarding the real-world system, we are able to find the number of pedestrians present in the concourse in any given frame, and explore how this varies over time (i.e. frame by frame).\n",
    "We will also be able to produce a similar set of data from a model run.\n",
    "This is an important way in which we can compare the extent to which our model behaves like the real-world system.\n",
    "\n",
    "Let us, therefore, begin by creating a dataset of how many pedestrians are found in each of the frames in the data:"
   ]
  },
  {
   "cell_type": "code",
   "execution_count": null,
   "id": "assigned-fitting",
   "metadata": {},
   "outputs": [],
   "source": [
    "# Identify the unique frame numbers in our data\n",
    "frame_numbers = data['frame'].unique()\n",
    "\n",
    "# Create an empty list in which to store the number of pedestrians found in each frame\n",
    "pedestrians_per_frame = list()\n",
    "\n",
    "# Iterature through each frame, finding the number of pedestrians observed\n",
    "for frame_number in frame_numbers:\n",
    "    d = {'frame': frame_number,\n",
    "         'n_pedestrians': get_number_pedestrians_in_frame(data, frame_number)}\n",
    "    pedestrians_per_frame.append(d)\n",
    "\n",
    "# Create a dataframe from the results, sorting by frame number\n",
    "pedestrians_per_frame = pd.DataFrame(pedestrians_per_frame).sort_values(by='frame')\n",
    "\n",
    "pedestrians_per_frame.head()"
   ]
  },
  {
   "cell_type": "markdown",
   "id": "offensive-fiction",
   "metadata": {},
   "source": [
    "Given the DataFrame `pedestrians_per_frame`, produce a plot showing how the number of pedestrians in the system varies frame by frame:"
   ]
  },
  {
   "cell_type": "code",
   "execution_count": null,
   "id": "acute-duncan",
   "metadata": {},
   "outputs": [],
   "source": [
    "# Insert code here\n"
   ]
  },
  {
   "cell_type": "markdown",
   "id": "legitimate-healing",
   "metadata": {},
   "source": [
    "Given the above data and visualisation, we can calculate:\n",
    "* the maximum number of pedestrians in the system at any given time\n",
    "* the time at which this maximum occurs\n",
    "* the time it takes for all pedestrians to complete their journeys\n",
    "\n",
    "Each of these are metrics for which we can calculate corresponding values from a model run for comparison.\n",
    "Let us find them for the observational data."
   ]
  },
  {
   "cell_type": "markdown",
   "id": "secondary-geology",
   "metadata": {},
   "source": [
    "From the above data and visualisation, can we work out what the maximum number of pedetrians is in the system at any given time?"
   ]
  },
  {
   "cell_type": "code",
   "execution_count": null,
   "id": "compliant-things",
   "metadata": {},
   "outputs": [],
   "source": [
    "# Insert code here\n"
   ]
  },
  {
   "cell_type": "markdown",
   "id": "extensive-indonesian",
   "metadata": {},
   "source": [
    "From the above data and visualisation, can we work out when the system contains this maximum number of pedetrians?"
   ]
  },
  {
   "cell_type": "code",
   "execution_count": null,
   "id": "infinite-resolution",
   "metadata": {},
   "outputs": [],
   "source": [
    "# Insert code here\n"
   ]
  },
  {
   "cell_type": "markdown",
   "id": "lasting-assessment",
   "metadata": {},
   "source": [
    "From the above data and visualisation, can we work out how many frames it takes all of the pedestrians to complete their journeys across the concourse?"
   ]
  },
  {
   "cell_type": "code",
   "execution_count": null,
   "id": "opponent-abortion",
   "metadata": {},
   "outputs": [],
   "source": [
    "# Insert code here\n"
   ]
  },
  {
   "cell_type": "markdown",
   "id": "individual-overall",
   "metadata": {},
   "source": [
    "### Comparing real data with the model"
   ]
  },
  {
   "cell_type": "markdown",
   "id": "defensive-cooperative",
   "metadata": {},
   "source": [
    "Now that we have calculated all of the necessary information from the observation (real) data, we would like to compare our model against the data.\n",
    "The plan for doing this is:\n",
    "1. Create a dictionary of model parameters\n",
    "2. Create an instance of the model with the model parameter dictionary\n",
    "3. Run the model to completion\n",
    "4. Compare the model to the observational data"
   ]
  },
  {
   "cell_type": "markdown",
   "id": "northern-journal",
   "metadata": {},
   "source": [
    "We start by creating a dictionary of model parameters (as in [the previous notebook on running models](./1_running_models.ipynb)) with the following parameter values:\n",
    "\n",
    "* `station`: `Grand_Central`\n",
    "* `step_limit`: 20000\n",
    "* `do_print`: `False`\n",
    "* `pop_total` number of pedestrians found in previous notebook\n",
    "* `speed_mean`: value found in previous notebook\n",
    "* `speed_std`: value found in previous notebook\n",
    "* `speed_min`: value found in previous notebook"
   ]
  },
  {
   "cell_type": "code",
   "execution_count": null,
   "id": "virtual-wholesale",
   "metadata": {},
   "outputs": [],
   "source": [
    "# Insert code here\n",
    "# Replace None with a dictionary of parameter values\n",
    "model_params = None"
   ]
  },
  {
   "cell_type": "markdown",
   "id": "academic-contrast",
   "metadata": {},
   "source": [
    "The parameter that we want to find the value for in this notebook is `birth_rate` - let's try running the model with a birth rate of $1.0$.\n",
    "We start by adding the parameter value to our dictionary."
   ]
  },
  {
   "cell_type": "code",
   "execution_count": null,
   "id": "average-palmer",
   "metadata": {},
   "outputs": [],
   "source": [
    "# Insert code here\n",
    "# Replace None with the birth rate for which you would like to run the model\n",
    "birth_rate = None\n",
    "\n",
    "# Set birth rate value\n",
    "model_params['birth_rate'] = birth_rate"
   ]
  },
  {
   "cell_type": "markdown",
   "id": "sublime-resident",
   "metadata": {},
   "source": [
    "We now create an instance of the model with our model parameter dictionary:"
   ]
  },
  {
   "cell_type": "code",
   "execution_count": null,
   "id": "medium-exemption",
   "metadata": {},
   "outputs": [],
   "source": [
    "# Create model based on model parameters\n",
    "model = Model(**model_params)"
   ]
  },
  {
   "cell_type": "markdown",
   "id": "refined-scanner",
   "metadata": {},
   "source": [
    "And finally we run the model.\n",
    "Note that this instance of running the model forward may appear more complicated than that [shown previously](./1_running_models.ipynb), but this is still the same process: use a for loop to iterate the model forward.\n",
    "Reading through the code, you will see that the additional code aims to calculate data that we can use to compare against the observation data above."
   ]
  },
  {
   "cell_type": "markdown",
   "id": "circular-lodge",
   "metadata": {},
   "source": [
    "WARNING, RUNNING THE MODEL WITH THIS NUMBER OF PEDESTRIAN MAY TAKE A COUPLE OF MINUTES"
   ]
  },
  {
   "cell_type": "code",
   "execution_count": null,
   "id": "promising-liverpool",
   "metadata": {},
   "outputs": [],
   "source": [
    "# Create an empty list in which to collect results\n",
    "population_results = list()\n",
    "\n",
    "n_max_active_pop = 0\n",
    "t_max_active_pop = 0\n",
    "t_max = False\n",
    "\n",
    "# Iterate the model forward\n",
    "for _ in tqdm(range(model.step_limit)):\n",
    "    # Step model forward\n",
    "    model.step()\n",
    "    \n",
    "    # Calculate number of pedestrians in system for this frame\n",
    "    timestep_results = {'frame': model.step_id,\n",
    "                        'active_pedestrians': model.pop_active}\n",
    "    population_results.append(timestep_results)\n",
    "\n",
    "    # Update max_active_pop\n",
    "    if model.pop_active > n_max_active_pop:\n",
    "        n_max_active_pop = model.pop_active\n",
    "        t_max_active_pop = model.step_id\n",
    "\n",
    "    # get t_max\n",
    "    if not t_max and model.step_id > 1000 and model.pop_active == 1:\n",
    "        t_max = model.step_id\n",
    "\n",
    "model_metrics = {'n_max_active_pop': n_max_active_pop,\n",
    "                 't_max_active_pop': t_max_active_pop,\n",
    "                 't_max': t_max,\n",
    "                 'rate': birth_rate}"
   ]
  },
  {
   "cell_type": "markdown",
   "id": "introductory-hygiene",
   "metadata": {},
   "source": [
    "Once the model has run, we can convert the results regarding the size of the active population in the model into a DataFrame:"
   ]
  },
  {
   "cell_type": "code",
   "execution_count": null,
   "id": "respiratory-liverpool",
   "metadata": {},
   "outputs": [],
   "source": [
    "# Convert list of population results into a Pandas dataframe\n",
    "population_results = pd.DataFrame(population_results)\n",
    "population_results.head()"
   ]
  },
  {
   "cell_type": "markdown",
   "id": "civilian-compensation",
   "metadata": {},
   "source": [
    "Now that the model has run, let us have a look at the model metrics that have been produced:"
   ]
  },
  {
   "cell_type": "code",
   "execution_count": null,
   "id": "dimensional-israeli",
   "metadata": {},
   "outputs": [],
   "source": [
    "model_metrics"
   ]
  },
  {
   "cell_type": "markdown",
   "id": "academic-victim",
   "metadata": {},
   "source": [
    "In this situation, `n_max_active_pop` is the maximum number of pedestrians in the system at any given time, `t_max_active_pop` is the time at which this maximum value occurred and `t_max` is the time taken for all of the pedestrian agents to complete their journeys.\n",
    "\n",
    "How do these compare to what we observe in the data? Consider discussing this with your group. "
   ]
  },
  {
   "cell_type": "markdown",
   "id": "sharp-blood",
   "metadata": {},
   "source": [
    "Note that you will each have different results, but will hopefully observe the same qualitative differences between your results and the observational data. Why should each of your results be different? If unsure, discuss with Natacha or Keiran"
   ]
  },
  {
   "cell_type": "markdown",
   "id": "available-leonard",
   "metadata": {},
   "source": [
    "(INSERT OBSERVATIONS HERE)"
   ]
  },
  {
   "cell_type": "markdown",
   "id": "sustainable-slide",
   "metadata": {},
   "source": [
    "We can also plot the variation in the number of active pedestrian agents in the system over time, and compare this to how the number of pedestrians in the concourse varies over time in the data:"
   ]
  },
  {
   "cell_type": "code",
   "execution_count": null,
   "id": "owned-cradle",
   "metadata": {},
   "outputs": [],
   "source": [
    "# Insert code here\n",
    "# Produce a line plot of pedestrians_per_frame and overlay a line plot of population_results\n"
   ]
  },
  {
   "cell_type": "markdown",
   "id": "twelve-metabolism",
   "metadata": {},
   "source": [
    "What can we learn from this plot about the behaviour of the model in comparison to the observed data?"
   ]
  },
  {
   "cell_type": "markdown",
   "id": "clinical-functionality",
   "metadata": {},
   "source": [
    "(INSERT OBSERVATIONS HERE)"
   ]
  },
  {
   "cell_type": "markdown",
   "id": "editorial-instrument",
   "metadata": {},
   "source": [
    "### Exploration"
   ]
  },
  {
   "cell_type": "markdown",
   "id": "center-input",
   "metadata": {},
   "source": [
    "At this stage, we can hopefully agree that, when using a `birth_rate` of $1.0$, the model does not behave in a manner that reflects what we observe in the data.\n",
    "If we compare our results with those of our neighbours, we may also observe that there is some variability between different model runs.\n",
    "This leads us on to the final section of the practicals - an open-ended exploration of the model in comparison to the observational data.\n",
    "Some ideas that you could consider for your investigation might be\n",
    "* Finding the correct value of `birth_rate`:\n",
    "    * Running the model for different birth rates, and comparing results via visualisations\n",
    "    * Running the model for different birth rates, and comparing results via numerical metrics\n",
    "* Exploring variability in the model:\n",
    "    * Running the model multiple times for the same birth rates to explore how the model visualisations vary between runs\n",
    "    * Running the model multiple times for the same birth rates to explore how the numerical model metrics vary between runs\n",
    "* Exploring the qualitative behaviour of the model:\n",
    "    * Producing animations of the observed data and animations of the model for different birth rates to explore how the behaviours compare\n",
    "\n",
    "You are, however, very welcome to take your investigations in different directions.\n",
    "If you have an idea, but are unsure about it then feel free to run it by Natacha or Keiran."
   ]
  },
  {
   "cell_type": "code",
   "execution_count": null,
   "id": "isolated-atmosphere",
   "metadata": {},
   "outputs": [],
   "source": [
    "# Insert code here\n"
   ]
  }
 ],
 "metadata": {
  "kernelspec": {
   "display_name": "Python 3",
   "language": "python",
   "name": "python3"
  },
  "language_info": {
   "codemirror_mode": {
    "name": "ipython",
    "version": 3
   },
   "file_extension": ".py",
   "mimetype": "text/x-python",
   "name": "python",
   "nbconvert_exporter": "python",
   "pygments_lexer": "ipython3",
   "version": "3.8.5"
  }
 },
 "nbformat": 4,
 "nbformat_minor": 5
}
