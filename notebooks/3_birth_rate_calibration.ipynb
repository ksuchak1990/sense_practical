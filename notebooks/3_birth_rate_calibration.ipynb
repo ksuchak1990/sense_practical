{
 "cells": [
  {
   "cell_type": "markdown",
   "id": "oriented-compiler",
   "metadata": {},
   "source": [
    "# Agent Birth Rate Calibration and Beyond"
   ]
  },
  {
   "cell_type": "markdown",
   "id": "growing-surfing",
   "metadata": {},
   "source": [
    "The aim of this notebook is to "
   ]
  },
  {
   "cell_type": "markdown",
   "id": "lesser-gothic",
   "metadata": {},
   "source": [
    "## Imports"
   ]
  },
  {
   "cell_type": "markdown",
   "id": "enclosed-calgary",
   "metadata": {},
   "source": [
    "Import all of the necessary packages, including the `StationSim` model:"
   ]
  },
  {
   "cell_type": "code",
   "execution_count": 1,
   "id": "liked-judge",
   "metadata": {},
   "outputs": [],
   "source": [
    "import json\n",
    "import pandas as pd\n",
    "import seaborn as sns\n",
    "import matplotlib.pyplot as plt\n",
    "import numpy as np\n",
    "from sys import path\n",
    "import time\n",
    "from tqdm import tqdm\n",
    "\n",
    "%matplotlib inline"
   ]
  },
  {
   "cell_type": "code",
   "execution_count": 2,
   "id": "northern-ribbon",
   "metadata": {},
   "outputs": [],
   "source": [
    "path.append('../src/model/')\n",
    "from stationsim_gcs import Model"
   ]
  },
  {
   "cell_type": "markdown",
   "id": "lovely-timothy",
   "metadata": {},
   "source": [
    "## Paths and Directories"
   ]
  },
  {
   "cell_type": "markdown",
   "id": "copyrighted-tucson",
   "metadata": {},
   "source": [
    "Define some paths to and from data:"
   ]
  },
  {
   "cell_type": "code",
   "execution_count": 3,
   "id": "composed-scoop",
   "metadata": {},
   "outputs": [],
   "source": [
    "combined_frames_path = '../data/outputs/combined_frames.csv'"
   ]
  },
  {
   "cell_type": "code",
   "execution_count": 4,
   "id": "established-think",
   "metadata": {},
   "outputs": [],
   "source": [
    "output_data_dir = '../data/outputs/'"
   ]
  },
  {
   "cell_type": "markdown",
   "id": "broken-agriculture",
   "metadata": {},
   "source": [
    "## Functions"
   ]
  },
  {
   "cell_type": "markdown",
   "id": "synthetic-module",
   "metadata": {},
   "source": [
    "Here, I have defined some functions that will be useful later in the analysis:"
   ]
  },
  {
   "cell_type": "code",
   "execution_count": 5,
   "id": "tired-variable",
   "metadata": {},
   "outputs": [],
   "source": [
    "def get_number_pedestrians_in_frame(df, frame):\n",
    "    tdf = df.loc[df['frame']==frame, :]\n",
    "    return len(tdf['pedestrianID'].unique())"
   ]
  },
  {
   "cell_type": "code",
   "execution_count": 6,
   "id": "religious-north",
   "metadata": {},
   "outputs": [],
   "source": [
    "def __get_error(observed, model, variable):\n",
    "    return observed[variable] - model[variable]"
   ]
  },
  {
   "cell_type": "code",
   "execution_count": 7,
   "id": "numerical-clone",
   "metadata": {},
   "outputs": [],
   "source": [
    "def get_error(observed_results, model_results):\n",
    "    n_max_peds = __get_error(observed_results, model_results, 'n_max_active_pop')\n",
    "    t_max_peds = __get_error(observed_results, model_results, 't_max_active_pop')\n",
    "    t_max = __get_error(observed_results, model_results, 't_max')\n",
    "    \n",
    "    results = {'n_max_active_pop': n_max_peds,\n",
    "               't_max_active_pop': t_max_peds,\n",
    "               't_max': t_max,\n",
    "               'rate': model_results['rate']}\n",
    "    return results"
   ]
  },
  {
   "cell_type": "markdown",
   "id": "alternative-thursday",
   "metadata": {},
   "source": [
    "## Analysis"
   ]
  },
  {
   "cell_type": "markdown",
   "id": "mighty-exhaust",
   "metadata": {},
   "source": [
    "We start our analysis by reading in the data pertaining to the paths of pedestrians across the concourse:"
   ]
  },
  {
   "cell_type": "code",
   "execution_count": 28,
   "id": "wanted-compromise",
   "metadata": {},
   "outputs": [
    {
     "data": {
      "text/html": [
       "<div>\n",
       "<style scoped>\n",
       "    .dataframe tbody tr th:only-of-type {\n",
       "        vertical-align: middle;\n",
       "    }\n",
       "\n",
       "    .dataframe tbody tr th {\n",
       "        vertical-align: top;\n",
       "    }\n",
       "\n",
       "    .dataframe thead th {\n",
       "        text-align: right;\n",
       "    }\n",
       "</style>\n",
       "<table border=\"1\" class=\"dataframe\">\n",
       "  <thead>\n",
       "    <tr style=\"text-align: right;\">\n",
       "      <th></th>\n",
       "      <th>frame</th>\n",
       "      <th>pedestrianID</th>\n",
       "      <th>x</th>\n",
       "      <th>y</th>\n",
       "    </tr>\n",
       "  </thead>\n",
       "  <tbody>\n",
       "    <tr>\n",
       "      <th>0</th>\n",
       "      <td>4506</td>\n",
       "      <td>245</td>\n",
       "      <td>456.903221</td>\n",
       "      <td>507.182260</td>\n",
       "    </tr>\n",
       "    <tr>\n",
       "      <th>1</th>\n",
       "      <td>4506</td>\n",
       "      <td>246</td>\n",
       "      <td>447.735569</td>\n",
       "      <td>490.672126</td>\n",
       "    </tr>\n",
       "    <tr>\n",
       "      <th>2</th>\n",
       "      <td>4506</td>\n",
       "      <td>247</td>\n",
       "      <td>466.788192</td>\n",
       "      <td>520.933037</td>\n",
       "    </tr>\n",
       "    <tr>\n",
       "      <th>3</th>\n",
       "      <td>4506</td>\n",
       "      <td>248</td>\n",
       "      <td>475.195786</td>\n",
       "      <td>527.601525</td>\n",
       "    </tr>\n",
       "    <tr>\n",
       "      <th>4</th>\n",
       "      <td>4506</td>\n",
       "      <td>249</td>\n",
       "      <td>281.777398</td>\n",
       "      <td>518.092819</td>\n",
       "    </tr>\n",
       "  </tbody>\n",
       "</table>\n",
       "</div>"
      ],
      "text/plain": [
       "   frame  pedestrianID           x           y\n",
       "0   4506           245  456.903221  507.182260\n",
       "1   4506           246  447.735569  490.672126\n",
       "2   4506           247  466.788192  520.933037\n",
       "3   4506           248  475.195786  527.601525\n",
       "4   4506           249  281.777398  518.092819"
      ]
     },
     "execution_count": 28,
     "metadata": {},
     "output_type": "execute_result"
    }
   ],
   "source": [
    "data = pd.read_csv(combined_frames_path)\n",
    "data.head()"
   ]
  },
  {
   "cell_type": "markdown",
   "id": "renewable-africa",
   "metadata": {},
   "source": [
    "As we saw in the previous notebook, this dataset is made up fo observations pertaining to 4 columns:\n",
    "* `frame`, i.e. the frame in which the observation was captured,\n",
    "* `pedestrianID` i.e. the unique pedestrian that the observation relates to,\n",
    "* `x`, i.e. the $x$-coordinate of the pedestrian within the concourse in the frame,\n",
    "* `y`, i.e. the $y$-coordinate of the pedestrian within the concourse in the frame."
   ]
  },
  {
   "cell_type": "markdown",
   "id": "grateful-likelihood",
   "metadata": {},
   "source": [
    "### Exploring the variation in number of pedestrian in the system over time"
   ]
  },
  {
   "cell_type": "code",
   "execution_count": 9,
   "id": "silver-peoples",
   "metadata": {},
   "outputs": [],
   "source": [
    "frame_numbers = data['frame'].unique()\n",
    "pedestrians_per_frame = list()\n",
    "\n",
    "for frame_number in frame_numbers:\n",
    "    d = {'frame': frame_number,\n",
    "         'n_pedestrians': get_number_pedestrians_in_frame(data, frame_number)}\n",
    "    pedestrians_per_frame.append(d)\n",
    "    \n",
    "pedestrians_per_frame = pd.DataFrame(pedestrians_per_frame)"
   ]
  },
  {
   "cell_type": "markdown",
   "id": "blessed-belle",
   "metadata": {},
   "source": [
    "Plot how the number of pedestrians in the system varies frame by frame:"
   ]
  },
  {
   "cell_type": "code",
   "execution_count": 10,
   "id": "economic-smile",
   "metadata": {},
   "outputs": [],
   "source": [
    "# Insert code here\n"
   ]
  },
  {
   "cell_type": "code",
   "execution_count": 11,
   "id": "macro-coordinate",
   "metadata": {},
   "outputs": [
    {
     "data": {
      "image/png": "[encoded data removed]",
      "text/plain": [
       "<Figure size 432x288 with 1 Axes>"
      ]
     },
     "metadata": {
      "needs_background": "light"
     },
     "output_type": "display_data"
    }
   ],
   "source": [
    "plt.figure()\n",
    "sns.lineplot(x='frame', y='n_pedestrians', data=pedestrians_per_frame)\n",
    "plt.axhline(85, linestyle='--', label='max=85')\n",
    "plt.xlabel('Frames')\n",
    "plt.ylabel('Number of pedestrians in observed environment')\n",
    "plt.legend()\n",
    "plt.show()"
   ]
  },
  {
   "cell_type": "markdown",
   "id": "favorite-admission",
   "metadata": {},
   "source": [
    "From the above data and visualisation, can we work out what the maximum number of pedetrians is in the system at any given time?"
   ]
  },
  {
   "cell_type": "code",
   "execution_count": 12,
   "id": "closed-ratio",
   "metadata": {},
   "outputs": [],
   "source": [
    "# Insert code here\n"
   ]
  },
  {
   "cell_type": "code",
   "execution_count": 13,
   "id": "designed-omaha",
   "metadata": {},
   "outputs": [
    {
     "data": {
      "text/plain": [
       "85"
      ]
     },
     "execution_count": 13,
     "metadata": {},
     "output_type": "execute_result"
    }
   ],
   "source": [
    "# Maximum number of pedestrians in the system at any one time\n",
    "max_n_peds = max(pedestrians_per_frame['n_pedestrians'])\n",
    "max_n_peds"
   ]
  },
  {
   "cell_type": "markdown",
   "id": "interested-reply",
   "metadata": {},
   "source": [
    "From the above data and visualisation, can we work out when the system contains this maximum number of pedetrians?"
   ]
  },
  {
   "cell_type": "code",
   "execution_count": 14,
   "id": "sunset-practice",
   "metadata": {},
   "outputs": [],
   "source": [
    "# Insert code here\n"
   ]
  },
  {
   "cell_type": "code",
   "execution_count": 15,
   "id": "infinite-antenna",
   "metadata": {},
   "outputs": [
    {
     "data": {
      "text/plain": [
       "1454.0"
      ]
     },
     "execution_count": 15,
     "metadata": {},
     "output_type": "execute_result"
    }
   ],
   "source": [
    "# Time at which the maximum number of pedestrians in the sytem occurs\n",
    "max_peds_frames = pedestrians_per_frame.loc[pedestrians_per_frame['n_pedestrians']==max_n_peds, 'frame']\n",
    "t_max_n_peds = np.mean(max_peds_frames)\n",
    "t_max_n_peds"
   ]
  },
  {
   "cell_type": "markdown",
   "id": "excited-light",
   "metadata": {},
   "source": [
    "From the above data and visualisation, can we work out how many frames it takes all of the pedestrians to complete their journeys across the concourse?"
   ]
  },
  {
   "cell_type": "code",
   "execution_count": 16,
   "id": "soviet-peeing",
   "metadata": {},
   "outputs": [],
   "source": [
    "# Insert code here\n"
   ]
  },
  {
   "cell_type": "code",
   "execution_count": 17,
   "id": "public-swiss",
   "metadata": {},
   "outputs": [
    {
     "data": {
      "text/plain": [
       "5687"
      ]
     },
     "execution_count": 17,
     "metadata": {},
     "output_type": "execute_result"
    }
   ],
   "source": [
    "# Time at which all pedestrians have completed their trajectories\n",
    "end_frame = max(pedestrians_per_frame['frame'])\n",
    "end_frame"
   ]
  },
  {
   "cell_type": "markdown",
   "id": "buried-reform",
   "metadata": {},
   "source": [
    "### Comparing data with the model"
   ]
  },
  {
   "cell_type": "markdown",
   "id": "nasty-appendix",
   "metadata": {},
   "source": [
    "Create a dictionary of model parameters (as in [the previous notebook on running models](./1_running_models.ipynb)) with the following parameter values:\n",
    "\n",
    "* `station`: `Grand_Central`\n",
    "* `step_limit`: 20000\n",
    "* `do_print`: `False`\n",
    "* `pop_total` number of pedestrians found in previous notebook\n",
    "* `speed_mean`: value found in previous notebook\n",
    "* `speed_std`: value found in previous notebook\n",
    "* `speed_min`: value found in previous notebook"
   ]
  },
  {
   "cell_type": "code",
   "execution_count": 18,
   "id": "answering-lithuania",
   "metadata": {},
   "outputs": [],
   "source": [
    "# Insert code here\n",
    "# Replace None with a dictionary of parameter values\n",
    "model_params = None"
   ]
  },
  {
   "cell_type": "code",
   "execution_count": 19,
   "id": "athletic-parts",
   "metadata": {},
   "outputs": [],
   "source": [
    "scaling_factor = 25/14"
   ]
  },
  {
   "cell_type": "code",
   "execution_count": 20,
   "id": "standard-cologne",
   "metadata": {},
   "outputs": [],
   "source": [
    "speed = {'mean': 1.6026400144010877 / scaling_factor,\n",
    "         'std': 0.6642343305178546 / scaling_factor,\n",
    "         'min': 0.31125359137714953 / scaling_factor}"
   ]
  },
  {
   "cell_type": "code",
   "execution_count": 21,
   "id": "transsexual-stomach",
   "metadata": {},
   "outputs": [],
   "source": [
    "model_params = {'station': 'Grand_Central',\n",
    "                'speed_mean': speed['mean'],\n",
    "                'speed_std:': speed['std'],\n",
    "                'speed_min': speed['min'],\n",
    "                'step_limit': 20000,\n",
    "                'do_print': False,\n",
    "                'pop_total': 274}"
   ]
  },
  {
   "cell_type": "markdown",
   "id": "acceptable-rainbow",
   "metadata": {},
   "source": [
    "The parameter that we want to find the value for in this notebook is `birth_rate` - let's try running the model with a birth rate of $1.0$:"
   ]
  },
  {
   "cell_type": "markdown",
   "id": "muslim-olympus",
   "metadata": {},
   "source": [
    "WARNING, RUNNING THE MODEL WITH THIS NUMBER OF PEDESTRIAN MAY TAKE A COUPLE OF MINUTES"
   ]
  },
  {
   "cell_type": "code",
   "execution_count": 22,
   "id": "entertaining-engine",
   "metadata": {},
   "outputs": [
    {
     "name": "stderr",
     "output_type": "stream",
     "text": [
      "../src/model/stationsim_gcs.py:596: RuntimeWarning: speed_std: is not a model parameter.\n",
      "  warnings.warn(f'{key} is not a model parameter.',\n"
     ]
    }
   ],
   "source": [
    "# Insert code here\n",
    "# Replace None with the birth rate for which you would like to run the model\n",
    "birth_rate = None\n",
    "birth_rate = 1.0\n",
    "\n",
    "# Set birth rate value\n",
    "model_params['birth_rate'] = birth_rate\n",
    "\n",
    "# Create model based on model parameters\n",
    "model = Model(**model_params)"
   ]
  },
  {
   "cell_type": "code",
   "execution_count": 23,
   "id": "iraqi-dominant",
   "metadata": {},
   "outputs": [
    {
     "name": "stderr",
     "output_type": "stream",
     "text": [
      "100%|██████████| 20000/20000 [02:18<00:00, 144.72it/s]\n"
     ]
    }
   ],
   "source": [
    "# Create an empty list in which to collect results\n",
    "population_results = list()\n",
    "\n",
    "n_max_active_pop = 0\n",
    "t_max_active_pop = 0\n",
    "t_max = False\n",
    "\n",
    "# Iterate the model forward\n",
    "for _ in tqdm(range(model.step_limit)):\n",
    "    model.step()\n",
    "    timestep_results = {'frame': model.step_id,\n",
    "                        'active_pedestrians': model.pop_active}\n",
    "    population_results.append(timestep_results)\n",
    "\n",
    "    # Update max_active_pop\n",
    "    if model.pop_active > n_max_active_pop:\n",
    "        n_max_active_pop = model.pop_active\n",
    "        t_max_active_pop = model.step_id\n",
    "\n",
    "    # get t_max\n",
    "    if not t_max and model.step_id > 1000 and model.pop_active == 1:\n",
    "        t_max = model.step_id\n",
    "\n",
    "model_metrics = {'n_max_active_pop': n_max_active_pop,\n",
    "                 't_max_active_pop': t_max_active_pop,\n",
    "                 't_max': t_max,\n",
    "                 'rate': birth_rate}"
   ]
  },
  {
   "cell_type": "code",
   "execution_count": 24,
   "id": "future-trustee",
   "metadata": {},
   "outputs": [],
   "source": [
    "# Convert list of population results into a Pandas dataframe\n",
    "population_results = pd.DataFrame(population_results)"
   ]
  },
  {
   "cell_type": "markdown",
   "id": "patent-verse",
   "metadata": {},
   "source": [
    "Now that the model has run, let us have a look at the model metrics that have been produced:"
   ]
  },
  {
   "cell_type": "code",
   "execution_count": 25,
   "id": "coordinated-reviewer",
   "metadata": {},
   "outputs": [
    {
     "data": {
      "text/plain": [
       "{'n_max_active_pop': 63, 't_max_active_pop': 6201, 't_max': 9985, 'rate': 1.0}"
      ]
     },
     "execution_count": 25,
     "metadata": {},
     "output_type": "execute_result"
    }
   ],
   "source": [
    "model_metrics"
   ]
  },
  {
   "cell_type": "markdown",
   "id": "spread-louisville",
   "metadata": {},
   "source": [
    "How do these compare to what we observe in the data? Considering discussing this with your group. Note that you will each have different results, but will hopefull observe the same qualitative differences between your results and the observational data. Why should each of your results be different? If unsure, discuss with Natacha or Keiran"
   ]
  },
  {
   "cell_type": "markdown",
   "id": "capable-demonstration",
   "metadata": {},
   "source": [
    "(INSERT OBSERVATIONS HERE)"
   ]
  },
  {
   "cell_type": "markdown",
   "id": "radio-debate",
   "metadata": {},
   "source": [
    "We can also plot the variation in the number of active pedestrian agents in the system over time, and compare this to how the number of pedestrians in the concourse varies over time in the data:"
   ]
  },
  {
   "cell_type": "code",
   "execution_count": 26,
   "id": "silent-authentication",
   "metadata": {},
   "outputs": [],
   "source": [
    "# Insert code here\n"
   ]
  },
  {
   "cell_type": "code",
   "execution_count": 27,
   "id": "gentle-confidence",
   "metadata": {},
   "outputs": [
    {
     "data": {
      "image/png": "[encoded data removed]",
      "text/plain": [
       "<Figure size 432x288 with 1 Axes>"
      ]
     },
     "metadata": {
      "needs_background": "light"
     },
     "output_type": "display_data"
    }
   ],
   "source": [
    "plt.figure()\n",
    "sns.lineplot(x='frame', y='active_pedestrians', data=population_results, label='Model')\n",
    "sns.lineplot(x='frame', y='n_pedestrians', data=pedestrians_per_frame, label='Data')\n",
    "plt.xlabel('Frame')\n",
    "plt.ylabel('Number of pedestrians in system')\n",
    "plt.legend()\n",
    "plt.show()"
   ]
  },
  {
   "cell_type": "markdown",
   "id": "specified-electricity",
   "metadata": {},
   "source": [
    "What can we learn from this plot about the behaviour of the model in comparison to the observed data?"
   ]
  },
  {
   "cell_type": "markdown",
   "id": "emerging-address",
   "metadata": {},
   "source": [
    "(INSERT OBSERVATIONS HERE)"
   ]
  },
  {
   "cell_type": "markdown",
   "id": "electrical-mistress",
   "metadata": {},
   "source": [
    "### Exploration"
   ]
  },
  {
   "cell_type": "markdown",
   "id": "central-basket",
   "metadata": {},
   "source": [
    "At this stage, we can hopefully agree that, when using a `birth_rate` of $1.0$, the model does not behave in a manner that reflects what we observe in the data.\n",
    "If we compare our results with those of our neighbours, we may also observe that there is some variability between different model runs.\n",
    "This leads us on to the final section of the practicals - an open-ended exploration of the model in comparison to the observational data.\n",
    "Some ideas that you could consider for your investigation might be\n",
    "* Finding the correct value of `birth_rate`:\n",
    "    * Running the model for different birth rates, and comparing results via visualisations\n",
    "    * Running the model for different birth rates, and comparing results via numerical metrics\n",
    "* Exploring variability in the model:\n",
    "    * Running the model multiple times for the same birth rates to explore how the model visualisations vary between runs\n",
    "    * Running the model multiple times for the same birth rates to explore how the numerical model metrics vary between runs\n",
    "* Exploring the qualitative behaviour of the model:\n",
    "    * Producing animations of the observed data and animations of the model for different birth rates to explore how the behaviours compare\n",
    "\n",
    "You are, however, very welcome to take your investigations in different directions.\n",
    "If you have an idea, but are unsure about it then feel free to run it by Natacha or Keiran."
   ]
  },
  {
   "cell_type": "code",
   "execution_count": null,
   "id": "postal-exhibition",
   "metadata": {},
   "outputs": [],
   "source": [
    "# Insert code here\n"
   ]
  }
 ],
 "metadata": {
  "kernelspec": {
   "display_name": "Python 3",
   "language": "python",
   "name": "python3"
  },
  "language_info": {
   "codemirror_mode": {
    "name": "ipython",
    "version": 3
   },
   "file_extension": ".py",
   "mimetype": "text/x-python",
   "name": "python",
   "nbconvert_exporter": "python",
   "pygments_lexer": "ipython3",
   "version": "3.8.5"
  }
 },
 "nbformat": 4,
 "nbformat_minor": 5
}
