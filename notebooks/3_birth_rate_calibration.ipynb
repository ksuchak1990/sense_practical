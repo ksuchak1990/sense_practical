{
 "cells": [
  {
   "cell_type": "markdown",
   "id": "absent-discretion",
   "metadata": {},
   "source": [
    "# Agent Birth Rate Calibration and Beyond"
   ]
  },
  {
   "cell_type": "markdown",
   "id": "relative-confidence",
   "metadata": {},
   "source": [
    "The aim of this notebook is to use the data provided to find a calibrated value for agent birth rate in the model.\n",
    "In this context, we take agent birth rate to mean the rate at which pedestrian agents are activated to enter the model environment, i.e. the station concourse.\n",
    "We can think of this as the number of pedestrians that may enter through the gates located at the edge of the model environment at each time-step/frame.\n",
    "\n",
    "With a lower birth rate, the number of pedestrians in the system is likely to remain consistently low, and as a consequence instances where pedestrians interact with each other will be infrequent.\n",
    "With a higher birth rate, the number of pedestrians in the system is likely to increase quickly, and we may therefore observe some crowding with agents being forced to interact with each other and find ways past each other.\n",
    "The level of crowding and interaction that we observe in a system will vary from scenario to scenario.\n",
    "In order for our model to accurately represent the behviour that we observe in the real-world system, we need to ensure that the parameter values that we use are accurate - this notebook therefore focuses on identifying a value for the `birth_rate` parameter, using the parameter values that we found in [the previous notebook](./2_speed_calibration.ipynb)."
   ]
  },
  {
   "cell_type": "markdown",
   "id": "successful-commons",
   "metadata": {},
   "source": [
    "## Imports"
   ]
  },
  {
   "cell_type": "markdown",
   "id": "unavailable-holmes",
   "metadata": {},
   "source": [
    "As always, we will start by importing all of the necessary packages, including the `StationSim` model:"
   ]
  },
  {
   "cell_type": "code",
   "execution_count": 1,
   "id": "individual-gossip",
   "metadata": {},
   "outputs": [],
   "source": [
    "import json\n",
    "import pandas as pd\n",
    "import seaborn as sns\n",
    "import matplotlib.pyplot as plt\n",
    "import numpy as np\n",
    "from sys import path\n",
    "import time\n",
    "from tqdm import tqdm\n",
    "\n",
    "%matplotlib inline"
   ]
  },
  {
   "cell_type": "code",
   "execution_count": 2,
   "id": "level-setup",
   "metadata": {},
   "outputs": [],
   "source": [
    "path.append('../src/model/')\n",
    "from stationsim_gcs import Model"
   ]
  },
  {
   "cell_type": "markdown",
   "id": "gross-zealand",
   "metadata": {},
   "source": [
    "## Paths and Directories"
   ]
  },
  {
   "cell_type": "markdown",
   "id": "furnished-hydrogen",
   "metadata": {},
   "source": [
    "Define some paths to and from data:"
   ]
  },
  {
   "cell_type": "code",
   "execution_count": 3,
   "id": "realistic-continuity",
   "metadata": {},
   "outputs": [],
   "source": [
    "combined_frames_path = '../data/outputs/combined_frames.csv'"
   ]
  },
  {
   "cell_type": "code",
   "execution_count": 4,
   "id": "complicated-advocacy",
   "metadata": {},
   "outputs": [],
   "source": [
    "output_data_dir = '../data/outputs/'"
   ]
  },
  {
   "cell_type": "markdown",
   "id": "expanded-minute",
   "metadata": {},
   "source": [
    "## Functions"
   ]
  },
  {
   "cell_type": "markdown",
   "id": "international-confusion",
   "metadata": {},
   "source": [
    "Here, I have defined some functions that will be useful later in the analysis:"
   ]
  },
  {
   "cell_type": "code",
   "execution_count": 5,
   "id": "integral-senate",
   "metadata": {},
   "outputs": [],
   "source": [
    "def get_number_pedestrians_in_frame(df, frame):\n",
    "    \"\"\"\n",
    "    Find the number of pedestrians in a frame.\n",
    "    \n",
    "    df: pandas dataframe\n",
    "    frame: int\n",
    "    \n",
    "    returns: int\n",
    "    \n",
    "    Given a dataset of all pedestrian locations in all frames,\n",
    "    restrict the dataset down to the frame in question,\n",
    "    and count the number of unique pedestrians IDs.\n",
    "    \"\"\"\n",
    "    tdf = df.loc[df['frame']==frame, :]\n",
    "    return len(tdf['pedestrianID'].unique())"
   ]
  },
  {
   "cell_type": "code",
   "execution_count": 6,
   "id": "mexican-matthew",
   "metadata": {},
   "outputs": [],
   "source": [
    "def __get_error(observed, model, variable):\n",
    "    \"\"\"\n",
    "    Calculate the error between an observed value and a value from the model.\n",
    "    \n",
    "    observed: dict-like\n",
    "    model: dict-like\n",
    "    variable: str\n",
    "    \n",
    "    returns: numerical\n",
    "    \n",
    "    Given a dictionary of metrics from the observed data,\n",
    "    a dictionary of metrics from the model data\n",
    "    and a string indicating the variable of interest,\n",
    "    calculate the error, i.e. the difference between the two.\n",
    "    \"\"\"\n",
    "    return observed[variable] - model[variable]"
   ]
  },
  {
   "cell_type": "code",
   "execution_count": 7,
   "id": "declared-hearing",
   "metadata": {},
   "outputs": [],
   "source": [
    "def get_error(observed_results, model_results):\n",
    "    \"\"\"\n",
    "    Calculate errors based on observed metrics and model metrics.\n",
    "    \n",
    "    observed_results: dict-like\n",
    "    model_results: dict-like\n",
    "    \n",
    "    returns: dict\n",
    "    \n",
    "    Given a dictionary of observed metrics from the data and a\n",
    "    dictionary of metrics from the model, calculate the error in:\n",
    "    - the maximum number of pedestrians in the system at any one time\n",
    "    - the time at which the maximum occurs\n",
    "    - the total time taken for all pedestrians to complete their journeys\n",
    "    \"\"\"\n",
    "    n_max_peds = __get_error(observed_results, model_results, 'n_max_active_pop')\n",
    "    t_max_peds = __get_error(observed_results, model_results, 't_max_active_pop')\n",
    "    t_max = __get_error(observed_results, model_results, 't_max')\n",
    "    \n",
    "    results = {'n_max_active_pop': n_max_peds,\n",
    "               't_max_active_pop': t_max_peds,\n",
    "               't_max': t_max,\n",
    "               'rate': model_results['rate']}\n",
    "    return results"
   ]
  },
  {
   "cell_type": "markdown",
   "id": "dietary-donna",
   "metadata": {},
   "source": [
    "## Analysis"
   ]
  },
  {
   "cell_type": "markdown",
   "id": "amateur-celebration",
   "metadata": {},
   "source": [
    "We start our analysis by reading in the data pertaining to the paths of pedestrians across the concourse:"
   ]
  },
  {
   "cell_type": "code",
   "execution_count": 8,
   "id": "ranging-reliance",
   "metadata": {},
   "outputs": [
    {
     "data": {
      "text/html": [
       "<div>\n",
       "<style scoped>\n",
       "    .dataframe tbody tr th:only-of-type {\n",
       "        vertical-align: middle;\n",
       "    }\n",
       "\n",
       "    .dataframe tbody tr th {\n",
       "        vertical-align: top;\n",
       "    }\n",
       "\n",
       "    .dataframe thead th {\n",
       "        text-align: right;\n",
       "    }\n",
       "</style>\n",
       "<table border=\"1\" class=\"dataframe\">\n",
       "  <thead>\n",
       "    <tr style=\"text-align: right;\">\n",
       "      <th></th>\n",
       "      <th>frame</th>\n",
       "      <th>pedestrianID</th>\n",
       "      <th>x</th>\n",
       "      <th>y</th>\n",
       "    </tr>\n",
       "  </thead>\n",
       "  <tbody>\n",
       "    <tr>\n",
       "      <th>0</th>\n",
       "      <td>2708</td>\n",
       "      <td>1</td>\n",
       "      <td>517.738979</td>\n",
       "      <td>310.348028</td>\n",
       "    </tr>\n",
       "    <tr>\n",
       "      <th>1</th>\n",
       "      <td>2708</td>\n",
       "      <td>2</td>\n",
       "      <td>515.247100</td>\n",
       "      <td>302.505800</td>\n",
       "    </tr>\n",
       "    <tr>\n",
       "      <th>2</th>\n",
       "      <td>2708</td>\n",
       "      <td>3</td>\n",
       "      <td>357.187148</td>\n",
       "      <td>153.410673</td>\n",
       "    </tr>\n",
       "    <tr>\n",
       "      <th>3</th>\n",
       "      <td>2708</td>\n",
       "      <td>4</td>\n",
       "      <td>342.423434</td>\n",
       "      <td>110.213457</td>\n",
       "    </tr>\n",
       "    <tr>\n",
       "      <th>4</th>\n",
       "      <td>2708</td>\n",
       "      <td>5</td>\n",
       "      <td>341.559165</td>\n",
       "      <td>92.116009</td>\n",
       "    </tr>\n",
       "  </tbody>\n",
       "</table>\n",
       "</div>"
      ],
      "text/plain": [
       "   frame  pedestrianID           x           y\n",
       "0   2708             1  517.738979  310.348028\n",
       "1   2708             2  515.247100  302.505800\n",
       "2   2708             3  357.187148  153.410673\n",
       "3   2708             4  342.423434  110.213457\n",
       "4   2708             5  341.559165   92.116009"
      ]
     },
     "execution_count": 8,
     "metadata": {},
     "output_type": "execute_result"
    }
   ],
   "source": [
    "# Read in data\n",
    "data = pd.read_csv(combined_frames_path)\n",
    "data.head()"
   ]
  },
  {
   "cell_type": "markdown",
   "id": "animal-ocean",
   "metadata": {},
   "source": [
    "As we saw in the previous notebook, this dataset is made up fo observations pertaining to 4 columns:\n",
    "* `frame`, i.e. the frame in which the observation was captured,\n",
    "* `pedestrianID` i.e. the unique pedestrian that the observation relates to,\n",
    "* `x`, i.e. the $x$-coordinate of the pedestrian within the concourse in the frame,\n",
    "* `y`, i.e. the $y$-coordinate of the pedestrian within the concourse in the frame."
   ]
  },
  {
   "cell_type": "markdown",
   "id": "mineral-australian",
   "metadata": {},
   "source": [
    "### Exploring the variation in number of pedestrian in the real system over time"
   ]
  },
  {
   "cell_type": "markdown",
   "id": "documented-strand",
   "metadata": {},
   "source": [
    "Given the data that we have regarding the real-world system, we are able to find the number of pedestrians present in the concourse in any given frame, and explore how this varies over time (i.e. frame by frame).\n",
    "We will also be able to produce a similar set of data from a model run.\n",
    "This is an important way in which we can compare the extent to which our model behaves like the real-world system.\n",
    "\n",
    "Let us, therefore, begin by creating a dataset of how many pedestrians are found in each of the frames in the data:"
   ]
  },
  {
   "cell_type": "code",
   "execution_count": 9,
   "id": "golden-brighton",
   "metadata": {},
   "outputs": [
    {
     "data": {
      "text/html": [
       "<div>\n",
       "<style scoped>\n",
       "    .dataframe tbody tr th:only-of-type {\n",
       "        vertical-align: middle;\n",
       "    }\n",
       "\n",
       "    .dataframe tbody tr th {\n",
       "        vertical-align: top;\n",
       "    }\n",
       "\n",
       "    .dataframe thead th {\n",
       "        text-align: right;\n",
       "    }\n",
       "</style>\n",
       "<table border=\"1\" class=\"dataframe\">\n",
       "  <thead>\n",
       "    <tr style=\"text-align: right;\">\n",
       "      <th></th>\n",
       "      <th>frame</th>\n",
       "      <th>n_pedestrians</th>\n",
       "    </tr>\n",
       "  </thead>\n",
       "  <tbody>\n",
       "    <tr>\n",
       "      <th>3828</th>\n",
       "      <td>0</td>\n",
       "      <td>1</td>\n",
       "    </tr>\n",
       "    <tr>\n",
       "      <th>4292</th>\n",
       "      <td>1</td>\n",
       "      <td>1</td>\n",
       "    </tr>\n",
       "    <tr>\n",
       "      <th>1557</th>\n",
       "      <td>2</td>\n",
       "      <td>1</td>\n",
       "    </tr>\n",
       "    <tr>\n",
       "      <th>158</th>\n",
       "      <td>3</td>\n",
       "      <td>1</td>\n",
       "    </tr>\n",
       "    <tr>\n",
       "      <th>2976</th>\n",
       "      <td>4</td>\n",
       "      <td>1</td>\n",
       "    </tr>\n",
       "  </tbody>\n",
       "</table>\n",
       "</div>"
      ],
      "text/plain": [
       "      frame  n_pedestrians\n",
       "3828      0              1\n",
       "4292      1              1\n",
       "1557      2              1\n",
       "158       3              1\n",
       "2976      4              1"
      ]
     },
     "execution_count": 9,
     "metadata": {},
     "output_type": "execute_result"
    }
   ],
   "source": [
    "# Identify the unique frame numbers in our data\n",
    "frame_numbers = data['frame'].unique()\n",
    "\n",
    "# Create an empty list in which to store the number of pedestrians found in each frame\n",
    "pedestrians_per_frame = list()\n",
    "\n",
    "# Iterature through each frame, finding the number of pedestrians observed\n",
    "for frame_number in frame_numbers:\n",
    "    d = {'frame': frame_number,\n",
    "         'n_pedestrians': get_number_pedestrians_in_frame(data, frame_number)}\n",
    "    pedestrians_per_frame.append(d)\n",
    "\n",
    "# Create a dataframe from the results, sorting by frame number\n",
    "pedestrians_per_frame = pd.DataFrame(pedestrians_per_frame).sort_values(by='frame')\n",
    "\n",
    "pedestrians_per_frame.head()"
   ]
  },
  {
   "cell_type": "markdown",
   "id": "stainless-plain",
   "metadata": {},
   "source": [
    "Given the DataFrame `pedestrians_per_frame`, produce a plot showing how the number of pedestrians in the system varies frame by frame:"
   ]
  },
  {
   "cell_type": "code",
   "execution_count": 10,
   "id": "needed-infrared",
   "metadata": {},
   "outputs": [],
   "source": [
    "# Insert code here\n"
   ]
  },
  {
   "cell_type": "code",
   "execution_count": 11,
   "id": "chubby-current",
   "metadata": {},
   "outputs": [
    {
     "data": {
      "image/png": "[encoded data removed]",
      "text/plain": [
       "<Figure size 432x288 with 1 Axes>"
      ]
     },
     "metadata": {
      "needs_background": "light"
     },
     "output_type": "display_data"
    }
   ],
   "source": [
    "plt.figure()\n",
    "sns.lineplot(x='frame', y='n_pedestrians', data=pedestrians_per_frame)\n",
    "plt.axhline(85, linestyle='--', label='max=85')\n",
    "plt.xlabel('Frames')\n",
    "plt.ylabel('Number of pedestrians in observed environment')\n",
    "plt.legend()\n",
    "plt.show()"
   ]
  },
  {
   "cell_type": "markdown",
   "id": "fitting-deposit",
   "metadata": {},
   "source": [
    "Given the above data and visualisation, we can calculate:\n",
    "* the maximum number of pedestrians in the system at any given time\n",
    "* the time at which this maximum occurs\n",
    "* the time it takes for all pedestrians to complete their journeys\n",
    "\n",
    "Each of these are metrics for which we can calculate corresponding values from a model run for comparison.\n",
    "Let us find them for the observational data."
   ]
  },
  {
   "cell_type": "markdown",
   "id": "provincial-spank",
   "metadata": {},
   "source": [
    "From the above data and visualisation, can we work out what the maximum number of pedetrians is in the system at any given time?"
   ]
  },
  {
   "cell_type": "code",
   "execution_count": 12,
   "id": "fiscal-beauty",
   "metadata": {},
   "outputs": [],
   "source": [
    "# Insert code here\n"
   ]
  },
  {
   "cell_type": "code",
   "execution_count": 13,
   "id": "respective-seller",
   "metadata": {},
   "outputs": [
    {
     "data": {
      "text/plain": [
       "85"
      ]
     },
     "execution_count": 13,
     "metadata": {},
     "output_type": "execute_result"
    }
   ],
   "source": [
    "# Maximum number of pedestrians in the system at any one time\n",
    "max_n_peds = max(pedestrians_per_frame['n_pedestrians'])\n",
    "max_n_peds"
   ]
  },
  {
   "cell_type": "markdown",
   "id": "elementary-jurisdiction",
   "metadata": {},
   "source": [
    "From the above data and visualisation, can we work out when the system contains this maximum number of pedetrians?"
   ]
  },
  {
   "cell_type": "code",
   "execution_count": 14,
   "id": "fantastic-lancaster",
   "metadata": {},
   "outputs": [],
   "source": [
    "# Insert code here\n"
   ]
  },
  {
   "cell_type": "code",
   "execution_count": 15,
   "id": "supported-wholesale",
   "metadata": {},
   "outputs": [
    {
     "data": {
      "text/plain": [
       "1454.0"
      ]
     },
     "execution_count": 15,
     "metadata": {},
     "output_type": "execute_result"
    }
   ],
   "source": [
    "# Time at which the maximum number of pedestrians in the sytem occurs\n",
    "max_peds_frames = pedestrians_per_frame.loc[pedestrians_per_frame['n_pedestrians']==max_n_peds, 'frame']\n",
    "t_max_n_peds = np.mean(max_peds_frames)\n",
    "t_max_n_peds"
   ]
  },
  {
   "cell_type": "markdown",
   "id": "static-kelly",
   "metadata": {},
   "source": [
    "From the above data and visualisation, can we work out how many frames it takes all of the pedestrians to complete their journeys across the concourse?"
   ]
  },
  {
   "cell_type": "code",
   "execution_count": 16,
   "id": "aquatic-roommate",
   "metadata": {},
   "outputs": [],
   "source": [
    "# Insert code here\n"
   ]
  },
  {
   "cell_type": "code",
   "execution_count": 17,
   "id": "medical-wiring",
   "metadata": {},
   "outputs": [
    {
     "data": {
      "text/plain": [
       "5687"
      ]
     },
     "execution_count": 17,
     "metadata": {},
     "output_type": "execute_result"
    }
   ],
   "source": [
    "# Time at which all pedestrians have completed their trajectories\n",
    "end_frame = max(pedestrians_per_frame['frame'])\n",
    "end_frame"
   ]
  },
  {
   "cell_type": "markdown",
   "id": "polished-respect",
   "metadata": {},
   "source": [
    "### Comparing real data with the model"
   ]
  },
  {
   "cell_type": "markdown",
   "id": "rural-fault",
   "metadata": {},
   "source": [
    "Now that we have calculated all of the necessary information from the observation (real) data, we would like to compare our model against the data.\n",
    "The plan for doing this is:\n",
    "1. Create a dictionary of model parameters\n",
    "2. Create an instance of the model with the model parameter dictionary\n",
    "3. Run the model to completion\n",
    "4. Compare the model to the observational data"
   ]
  },
  {
   "cell_type": "markdown",
   "id": "continued-amber",
   "metadata": {},
   "source": [
    "We start by creating a dictionary of model parameters (as in [the previous notebook on running models](./1_running_models.ipynb)) with the following parameter values:\n",
    "\n",
    "* `station`: `Grand_Central`\n",
    "* `step_limit`: 20000\n",
    "* `do_print`: `False`\n",
    "* `pop_total` number of pedestrians found in previous notebook\n",
    "* `speed_mean`: value found in previous notebook\n",
    "* `speed_std`: value found in previous notebook\n",
    "* `speed_min`: value found in previous notebook"
   ]
  },
  {
   "cell_type": "code",
   "execution_count": 18,
   "id": "complimentary-valve",
   "metadata": {},
   "outputs": [],
   "source": [
    "# Insert code here\n",
    "# Replace None with a dictionary of parameter values\n",
    "model_params = None"
   ]
  },
  {
   "cell_type": "code",
   "execution_count": 19,
   "id": "decreased-heaven",
   "metadata": {},
   "outputs": [],
   "source": [
    "scaling_factor = 25/14"
   ]
  },
  {
   "cell_type": "code",
   "execution_count": 20,
   "id": "promising-essence",
   "metadata": {},
   "outputs": [],
   "source": [
    "speed = {'mean': 1.6026400144010877 / scaling_factor,\n",
    "         'std': 0.6642343305178546 / scaling_factor,\n",
    "         'min': 0.31125359137714953 / scaling_factor}"
   ]
  },
  {
   "cell_type": "code",
   "execution_count": 21,
   "id": "posted-despite",
   "metadata": {},
   "outputs": [],
   "source": [
    "model_params = {'station': 'Grand_Central',\n",
    "                'speed_mean': speed['mean'],\n",
    "                'speed_std:': speed['std'],\n",
    "                'speed_min': speed['min'],\n",
    "                'step_limit': 20000,\n",
    "                'do_print': False,\n",
    "                'pop_total': 274}"
   ]
  },
  {
   "cell_type": "markdown",
   "id": "structural-kitty",
   "metadata": {},
   "source": [
    "The parameter that we want to find the value for in this notebook is `birth_rate` - let's try running the model with a birth rate of $1.0$.\n",
    "We start by adding the parameter value to our dictionary."
   ]
  },
  {
   "cell_type": "code",
   "execution_count": 22,
   "id": "pacific-being",
   "metadata": {},
   "outputs": [],
   "source": [
    "# Insert code here\n",
    "# Replace None with the birth rate for which you would like to run the model\n",
    "birth_rate = None\n",
    "birth_rate = 1.0\n",
    "\n",
    "# Set birth rate value\n",
    "model_params['birth_rate'] = birth_rate"
   ]
  },
  {
   "cell_type": "markdown",
   "id": "nutritional-literacy",
   "metadata": {},
   "source": [
    "We now create an instance of the model with our model parameter dictionary:"
   ]
  },
  {
   "cell_type": "code",
   "execution_count": 23,
   "id": "swedish-colleague",
   "metadata": {},
   "outputs": [
    {
     "name": "stderr",
     "output_type": "stream",
     "text": [
      "../src/model/stationsim_gcs.py:596: RuntimeWarning: speed_std: is not a model parameter.\n",
      "  warnings.warn(f'{key} is not a model parameter.',\n"
     ]
    }
   ],
   "source": [
    "# Create model based on model parameters\n",
    "model = Model(**model_params)"
   ]
  },
  {
   "cell_type": "markdown",
   "id": "dramatic-moderator",
   "metadata": {},
   "source": [
    "And finally we run the model.\n",
    "Note that this instance of running the model forward may appear more complicated than that [shown previously](./1_running_models.ipynb), but this is still the same process: use a for loop to iterate the model forward.\n",
    "Reading through the code, you will see that the additional code aims to calculate data that we can use to compare against the observation data above."
   ]
  },
  {
   "cell_type": "markdown",
   "id": "satisfied-photograph",
   "metadata": {},
   "source": [
    "WARNING, RUNNING THE MODEL WITH THIS NUMBER OF PEDESTRIAN MAY TAKE A COUPLE OF MINUTES"
   ]
  },
  {
   "cell_type": "code",
   "execution_count": 24,
   "id": "classified-housing",
   "metadata": {},
   "outputs": [
    {
     "name": "stderr",
     "output_type": "stream",
     "text": [
      "100%|██████████| 20000/20000 [03:00<00:00, 110.55it/s] \n"
     ]
    }
   ],
   "source": [
    "# Create an empty list in which to collect results\n",
    "population_results = list()\n",
    "\n",
    "n_max_active_pop = 0\n",
    "t_max_active_pop = 0\n",
    "t_max = False\n",
    "\n",
    "# Iterate the model forward\n",
    "for _ in tqdm(range(model.step_limit)):\n",
    "    # Step model forward\n",
    "    model.step()\n",
    "    \n",
    "    # Calculate number of pedestrians in system for this frame\n",
    "    timestep_results = {'frame': model.step_id,\n",
    "                        'active_pedestrians': model.pop_active}\n",
    "    population_results.append(timestep_results)\n",
    "\n",
    "    # Update max_active_pop\n",
    "    if model.pop_active > n_max_active_pop:\n",
    "        n_max_active_pop = model.pop_active\n",
    "        t_max_active_pop = model.step_id\n",
    "\n",
    "    # get t_max\n",
    "    if not t_max and model.step_id > 1000 and model.pop_active == 1:\n",
    "        t_max = model.step_id\n",
    "\n",
    "model_metrics = {'n_max_active_pop': n_max_active_pop,\n",
    "                 't_max_active_pop': t_max_active_pop,\n",
    "                 't_max': t_max,\n",
    "                 'rate': birth_rate}"
   ]
  },
  {
   "cell_type": "markdown",
   "id": "reflected-depression",
   "metadata": {},
   "source": [
    "Once the model has run, we can convert the results regarding the size of the active population in the model into a DataFrame:"
   ]
  },
  {
   "cell_type": "code",
   "execution_count": 25,
   "id": "traditional-amplifier",
   "metadata": {},
   "outputs": [
    {
     "data": {
      "text/html": [
       "<div>\n",
       "<style scoped>\n",
       "    .dataframe tbody tr th:only-of-type {\n",
       "        vertical-align: middle;\n",
       "    }\n",
       "\n",
       "    .dataframe tbody tr th {\n",
       "        vertical-align: top;\n",
       "    }\n",
       "\n",
       "    .dataframe thead th {\n",
       "        text-align: right;\n",
       "    }\n",
       "</style>\n",
       "<table border=\"1\" class=\"dataframe\">\n",
       "  <thead>\n",
       "    <tr style=\"text-align: right;\">\n",
       "      <th></th>\n",
       "      <th>frame</th>\n",
       "      <th>active_pedestrians</th>\n",
       "    </tr>\n",
       "  </thead>\n",
       "  <tbody>\n",
       "    <tr>\n",
       "      <th>0</th>\n",
       "      <td>1</td>\n",
       "      <td>0</td>\n",
       "    </tr>\n",
       "    <tr>\n",
       "      <th>1</th>\n",
       "      <td>2</td>\n",
       "      <td>1</td>\n",
       "    </tr>\n",
       "    <tr>\n",
       "      <th>2</th>\n",
       "      <td>3</td>\n",
       "      <td>1</td>\n",
       "    </tr>\n",
       "    <tr>\n",
       "      <th>3</th>\n",
       "      <td>4</td>\n",
       "      <td>1</td>\n",
       "    </tr>\n",
       "    <tr>\n",
       "      <th>4</th>\n",
       "      <td>5</td>\n",
       "      <td>1</td>\n",
       "    </tr>\n",
       "  </tbody>\n",
       "</table>\n",
       "</div>"
      ],
      "text/plain": [
       "   frame  active_pedestrians\n",
       "0      1                   0\n",
       "1      2                   1\n",
       "2      3                   1\n",
       "3      4                   1\n",
       "4      5                   1"
      ]
     },
     "execution_count": 25,
     "metadata": {},
     "output_type": "execute_result"
    }
   ],
   "source": [
    "# Convert list of population results into a Pandas dataframe\n",
    "population_results = pd.DataFrame(population_results)\n",
    "population_results.head()"
   ]
  },
  {
   "cell_type": "markdown",
   "id": "floral-genome",
   "metadata": {},
   "source": [
    "Now that the model has run, let us have a look at the model metrics that have been produced:"
   ]
  },
  {
   "cell_type": "code",
   "execution_count": 26,
   "id": "official-premises",
   "metadata": {},
   "outputs": [
    {
     "data": {
      "text/plain": [
       "{'n_max_active_pop': 58, 't_max_active_pop': 3501, 't_max': 10278, 'rate': 1.0}"
      ]
     },
     "execution_count": 26,
     "metadata": {},
     "output_type": "execute_result"
    }
   ],
   "source": [
    "model_metrics"
   ]
  },
  {
   "cell_type": "markdown",
   "id": "planned-harrison",
   "metadata": {},
   "source": [
    "In this situation, `n_max_active_pop` is the maximum number of pedestrians in the system at any given time, `t_max_active_pop` is the time at which this maximum value occurred and `t_max` is the time taken for all of the pedestrian agents to complete their journeys.\n",
    "\n",
    "How do these compare to what we observe in the data? Consider discussing this with your group. "
   ]
  },
  {
   "cell_type": "markdown",
   "id": "controlling-uzbekistan",
   "metadata": {},
   "source": [
    "Note that you will each have different results, but will hopefully observe the same qualitative differences between your results and the observational data. Why should each of your results be different? If unsure, discuss with Natacha or Keiran"
   ]
  },
  {
   "cell_type": "markdown",
   "id": "removable-cabin",
   "metadata": {},
   "source": [
    "(INSERT OBSERVATIONS HERE)"
   ]
  },
  {
   "cell_type": "markdown",
   "id": "flexible-centre",
   "metadata": {},
   "source": [
    "We can also plot the variation in the number of active pedestrian agents in the system over time, and compare this to how the number of pedestrians in the concourse varies over time in the data:"
   ]
  },
  {
   "cell_type": "code",
   "execution_count": 27,
   "id": "little-evaluation",
   "metadata": {},
   "outputs": [],
   "source": [
    "# Insert code here\n",
    "# Produce a line plot of pedestrians_per_frame and overlay a line plot of population_results\n"
   ]
  },
  {
   "cell_type": "code",
   "execution_count": 28,
   "id": "dying-lotus",
   "metadata": {},
   "outputs": [
    {
     "data": {
      "image/png": "[encoded data removed]",
      "text/plain": [
       "<Figure size 432x288 with 1 Axes>"
      ]
     },
     "metadata": {
      "needs_background": "light"
     },
     "output_type": "display_data"
    }
   ],
   "source": [
    "plt.figure()\n",
    "sns.lineplot(x='frame', y='active_pedestrians', data=population_results, label='Model')\n",
    "sns.lineplot(x='frame', y='n_pedestrians', data=pedestrians_per_frame, label='Data')\n",
    "plt.xlabel('Frame')\n",
    "plt.ylabel('Number of pedestrians in system')\n",
    "plt.legend()\n",
    "plt.show()"
   ]
  },
  {
   "cell_type": "markdown",
   "id": "suitable-dublin",
   "metadata": {},
   "source": [
    "What can we learn from this plot about the behaviour of the model in comparison to the observed data?"
   ]
  },
  {
   "cell_type": "markdown",
   "id": "cubic-medline",
   "metadata": {},
   "source": [
    "(INSERT OBSERVATIONS HERE)"
   ]
  },
  {
   "cell_type": "markdown",
   "id": "hairy-universe",
   "metadata": {},
   "source": [
    "### Exploration"
   ]
  },
  {
   "cell_type": "markdown",
   "id": "organizational-commodity",
   "metadata": {},
   "source": [
    "At this stage, we can hopefully agree that, when using a `birth_rate` of $1.0$, the model does not behave in a manner that reflects what we observe in the data.\n",
    "If we compare our results with those of our neighbours, we may also observe that there is some variability between different model runs.\n",
    "This leads us on to the final section of the practicals - an open-ended exploration of the model in comparison to the observational data.\n",
    "Some ideas that you could consider for your investigation might be\n",
    "* Finding the correct value of `birth_rate`:\n",
    "    * Running the model for different birth rates, and comparing results via visualisations\n",
    "    * Running the model for different birth rates, and comparing results via numerical metrics\n",
    "* Exploring variability in the model:\n",
    "    * Running the model multiple times for the same birth rates to explore how the model visualisations vary between runs\n",
    "    * Running the model multiple times for the same birth rates to explore how the numerical model metrics vary between runs\n",
    "* Exploring the qualitative behaviour of the model:\n",
    "    * Producing animations of the observed data and animations of the model for different birth rates to explore how the behaviours compare\n",
    "\n",
    "You are, however, very welcome to take your investigations in different directions.\n",
    "If you have an idea, but are unsure about it then feel free to run it by Natacha or Keiran."
   ]
  },
  {
   "cell_type": "code",
   "execution_count": 29,
   "id": "threatened-integration",
   "metadata": {},
   "outputs": [],
   "source": [
    "# Insert code here\n"
   ]
  }
 ],
 "metadata": {
  "kernelspec": {
   "display_name": "Python 3",
   "language": "python",
   "name": "python3"
  },
  "language_info": {
   "codemirror_mode": {
    "name": "ipython",
    "version": 3
   },
   "file_extension": ".py",
   "mimetype": "text/x-python",
   "name": "python",
   "nbconvert_exporter": "python",
   "pygments_lexer": "ipython3",
   "version": "3.8.5"
  }
 },
 "nbformat": 4,
 "nbformat_minor": 5
}
