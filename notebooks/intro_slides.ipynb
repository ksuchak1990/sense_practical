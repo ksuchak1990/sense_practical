{
 "cells": [
  {
   "cell_type": "markdown",
   "id": "increased-trinity",
   "metadata": {
    "slideshow": {
     "slide_type": "slide"
    }
   },
   "source": [
    "# Urban Systems Practical\n",
    "\n",
    "### Keiran Suchak\n",
    "\n",
    "### ML and AI Training Week\n",
    "\n",
    "### 23/02/21"
   ]
  },
  {
   "cell_type": "markdown",
   "id": "utility-spirit",
   "metadata": {
    "slideshow": {
     "slide_type": "slide"
    }
   },
   "source": [
    "# Agent-Based Modelling"
   ]
  },
  {
   "cell_type": "markdown",
   "id": "referenced-princess",
   "metadata": {
    "slideshow": {
     "slide_type": "fragment"
    }
   },
   "source": [
    "* What is an agent-based model?"
   ]
  },
  {
   "cell_type": "markdown",
   "id": "charged-poster",
   "metadata": {
    "slideshow": {
     "slide_type": "fragment"
    }
   },
   "source": [
    "* A model in which individuals are characterised as discrete autonomous agents which can interact with each other, as well as with their surrounding environment."
   ]
  },
  {
   "cell_type": "markdown",
   "id": "moving-closer",
   "metadata": {
    "slideshow": {
     "slide_type": "subslide"
    }
   },
   "source": [
    "# Agent-Based Modelling"
   ]
  },
  {
   "cell_type": "markdown",
   "id": "comparative-shift",
   "metadata": {
    "slideshow": {
     "slide_type": "fragment"
    }
   },
   "source": [
    "* In what contexts might we use them?"
   ]
  },
  {
   "cell_type": "markdown",
   "id": "level-trainer",
   "metadata": {
    "slideshow": {
     "slide_type": "fragment"
    }
   },
   "source": [
    "* Human Geography, autonomous vehicles, ecology, economics, epidemiology"
   ]
  },
  {
   "cell_type": "markdown",
   "id": "mysterious-firmware",
   "metadata": {
    "slideshow": {
     "slide_type": "subslide"
    }
   },
   "source": [
    "# Agent-Based Modelling"
   ]
  },
  {
   "cell_type": "markdown",
   "id": "applied-spoke",
   "metadata": {
    "slideshow": {
     "slide_type": "fragment"
    }
   },
   "source": [
    "* Why do we use them?"
   ]
  },
  {
   "cell_type": "markdown",
   "id": "anonymous-output",
   "metadata": {
    "slideshow": {
     "slide_type": "fragment"
    }
   },
   "source": [
    "* They provide us with information about the system at the individual level, as well as allowing us to derive information about the system at the aggregate level"
   ]
  },
  {
   "cell_type": "markdown",
   "id": "democratic-steps",
   "metadata": {
    "slideshow": {
     "slide_type": "fragment"
    }
   },
   "source": [
    "* The do not require that our individuals are homogeneous - we can can incorporate heterogeneity amongst our agents"
   ]
  },
  {
   "cell_type": "markdown",
   "id": "representative-score",
   "metadata": {
    "slideshow": {
     "slide_type": "slide"
    }
   },
   "source": [
    "# Practical Aim"
   ]
  },
  {
   "cell_type": "markdown",
   "id": "direct-graduate",
   "metadata": {
    "slideshow": {
     "slide_type": "fragment"
    }
   },
   "source": [
    "* Introduce you to agent-based modelling, and its use in urban analytics"
   ]
  },
  {
   "cell_type": "markdown",
   "id": "correct-hurricane",
   "metadata": {
    "slideshow": {
     "slide_type": "fragment"
    }
   },
   "source": [
    "* Focus specifically on their use in modelling how pedestrians move in urban spaces"
   ]
  },
  {
   "cell_type": "markdown",
   "id": "developing-taste",
   "metadata": {
    "slideshow": {
     "slide_type": "fragment"
    }
   },
   "source": [
    "* Looking at simulation of pedestrians moving around a concourse area at Grand Central Station in New York"
   ]
  },
  {
   "cell_type": "markdown",
   "id": "outer-habitat",
   "metadata": {
    "slideshow": {
     "slide_type": "slide"
    }
   },
   "source": [
    "# Practical Overiew"
   ]
  },
  {
   "cell_type": "markdown",
   "id": "superior-texas",
   "metadata": {
    "slideshow": {
     "slide_type": "fragment"
    }
   },
   "source": [
    "* [Notebook 0 - Introduction](./0_introduction.ipynb)"
   ]
  },
  {
   "cell_type": "markdown",
   "id": "imposed-recommendation",
   "metadata": {
    "slideshow": {
     "slide_type": "fragment"
    }
   },
   "source": [
    "* [Notebook 1 - Running an Agent-Based Model](./1_running_models.ipynb)"
   ]
  },
  {
   "cell_type": "markdown",
   "id": "willing-douglas",
   "metadata": {
    "slideshow": {
     "slide_type": "fragment"
    }
   },
   "source": [
    "* [Notebook 2 - Calibrating Pedestrian Speeds](./2_speed_calibration.ipynb)"
   ]
  },
  {
   "cell_type": "markdown",
   "id": "regulated-reset",
   "metadata": {
    "slideshow": {
     "slide_type": "fragment"
    }
   },
   "source": [
    "* [Notebook 3 - Calibrating Pedestrian Activation Rates](./3_birth_rate_calibration.ipynb)"
   ]
  },
  {
   "cell_type": "markdown",
   "id": "seasonal-anniversary",
   "metadata": {
    "slideshow": {
     "slide_type": "slide"
    }
   },
   "source": [
    "# Getting Started"
   ]
  },
  {
   "cell_type": "markdown",
   "id": "therapeutic-stroke",
   "metadata": {
    "slideshow": {
     "slide_type": "fragment"
    }
   },
   "source": [
    "* Obtaining practical materials"
   ]
  },
  {
   "cell_type": "markdown",
   "id": "judicial-brazil",
   "metadata": {
    "slideshow": {
     "slide_type": "fragment"
    }
   },
   "source": [
    "* Setting up Anaconda environment"
   ]
  },
  {
   "cell_type": "markdown",
   "id": "responsible-ranch",
   "metadata": {
    "slideshow": {
     "slide_type": "fragment"
    }
   },
   "source": [
    "* Running notebooks"
   ]
  },
  {
   "cell_type": "markdown",
   "id": "forced-agriculture",
   "metadata": {
    "slideshow": {
     "slide_type": "subslide"
    }
   },
   "source": [
    "# Obtaining practical materials\n",
    "\n",
    "* You should already have a copy of the materials has a zip file\n",
    "* (Remember to unzip!)"
   ]
  },
  {
   "cell_type": "markdown",
   "id": "median-bargain",
   "metadata": {
    "slideshow": {
     "slide_type": "subslide"
    }
   },
   "source": [
    "# Setting up Anaconda environment"
   ]
  },
  {
   "cell_type": "markdown",
   "id": "built-multiple",
   "metadata": {
    "slideshow": {
     "slide_type": "fragment"
    }
   },
   "source": [
    "* Open terminal/anaconda prompt"
   ]
  },
  {
   "cell_type": "markdown",
   "id": "severe-financing",
   "metadata": {
    "slideshow": {
     "slide_type": "fragment"
    }
   },
   "source": [
    "* Navigate to `sense_practical` folder"
   ]
  },
  {
   "cell_type": "markdown",
   "id": "insured-guinea",
   "metadata": {
    "slideshow": {
     "slide_type": "fragment"
    }
   },
   "source": [
    "* Install the required packages in a new environment using\n",
    "```\n",
    "conda env create -f environment.yml\n",
    "```"
   ]
  },
  {
   "cell_type": "markdown",
   "id": "residential-reverse",
   "metadata": {
    "slideshow": {
     "slide_type": "fragment"
    }
   },
   "source": [
    "* Activate the environment using\n",
    "```\n",
    "conda activate sense-abm\n",
    "```"
   ]
  },
  {
   "cell_type": "markdown",
   "id": "original-holmes",
   "metadata": {
    "slideshow": {
     "slide_type": "subslide"
    }
   },
   "source": [
    "# Running notebooks"
   ]
  },
  {
   "cell_type": "markdown",
   "id": "confidential-coffee",
   "metadata": {
    "slideshow": {
     "slide_type": "fragment"
    }
   },
   "source": [
    "* Start up the Jupyter-Notebook server using\n",
    "```\n",
    "jupyter-notebook\n",
    "```"
   ]
  },
  {
   "cell_type": "markdown",
   "id": "detected-packet",
   "metadata": {
    "slideshow": {
     "slide_type": "fragment"
    }
   },
   "source": [
    "* This should open a new tab in your web browser"
   ]
  },
  {
   "cell_type": "markdown",
   "id": "spiritual-reporter",
   "metadata": {
    "slideshow": {
     "slide_type": "fragment"
    }
   },
   "source": [
    "* If it does not, it will provide a link in your terminal - copy this link and paste it into your web browser"
   ]
  },
  {
   "cell_type": "markdown",
   "id": "adopted-azerbaijan",
   "metadata": {
    "slideshow": {
     "slide_type": "slide"
    }
   },
   "source": [
    "# Timings"
   ]
  },
  {
   "cell_type": "markdown",
   "id": "finite-reverse",
   "metadata": {
    "slideshow": {
     "slide_type": "fragment"
    }
   },
   "source": [
    "* 12:00-12:30 - Introduction session"
   ]
  },
  {
   "cell_type": "markdown",
   "id": "arbitrary-rwanda",
   "metadata": {
    "slideshow": {
     "slide_type": "fragment"
    }
   },
   "source": [
    "* 13:30-15:00 - Practical session\n",
    "    * 13:30-14:00 - Notebooks 1 & 2\n",
    "    * 14:00-14:50 - Notebook 3\n",
    "    * 14:50-15:00 - Wrap up"
   ]
  }
 ],
 "metadata": {
  "celltoolbar": "Slideshow",
  "kernelspec": {
   "display_name": "Python 3",
   "language": "python",
   "name": "python3"
  },
  "language_info": {
   "codemirror_mode": {
    "name": "ipython",
    "version": 3
   },
   "file_extension": ".py",
   "mimetype": "text/x-python",
   "name": "python",
   "nbconvert_exporter": "python",
   "pygments_lexer": "ipython3",
   "version": "3.8.5"
  },
  "rise": {
   "enable_chalkboard": true,
   "theme": "night"
  }
 },
 "nbformat": 4,
 "nbformat_minor": 5
}
